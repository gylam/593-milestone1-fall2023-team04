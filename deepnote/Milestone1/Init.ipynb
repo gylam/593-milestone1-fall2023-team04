{
  "cells": [
    {
      "cell_type": "markdown",
      "source": "## Initialization Notebook\nThis is your initialization notebook.\n\n**What's this for?**\n\nYou can put custom code you want us to run every time we setup your environment in here. \n\n**Awesome! Anything I should not put in here?**\n\nPlease don't install `jupyter` or `jedi` packages, they would break your Deepnote environment. Also, no need to put `!pip install`s here, we already save those automatically!\n\n**I want to learn more!**\n\nGreat! Just [head over to our docs](https://deepnote.com/docs/custom-initialization).",
      "metadata": {
        "cell_id": "46231f6172ad4cffa10f576342b179b7",
        "deepnote_cell_type": "markdown"
      },
      "block_group": "46231f6172ad4cffa10f576342b179b7"
    },
    {
      "cell_type": "code",
      "source": "%%bash\n# If your project has a 'requirements.txt' file, we'll install it here.\nif test -f requirements.txt\n  then\n    pip install -r ./requirements.txt\n  else echo \"There's no requirements.txt, so nothing to install.\"\nfi",
      "metadata": {
        "source_hash": null,
        "execution_start": 1697408081485,
        "execution_millis": 49439,
        "deepnote_to_be_reexecuted": false,
        "cell_id": "102f74fb52e141dca08046eec878fe4f",
        "deepnote_cell_type": "code"
      },
      "outputs": [
        {
          "name": "stdout",
          "text": "Collecting matplotlib==3.7.2\n  Downloading matplotlib-3.7.2-cp310-cp310-manylinux_2_17_x86_64.manylinux2014_x86_64.whl (11.6 MB)\n     ━━━━━━━━━━━━━━━━━━━━━━━━━━━━━━━━━━━━━━━━ 11.6/11.6 MB 33.8 MB/s eta 0:00:00\nRequirement already satisfied: matplotlib-inline==0.1.6 in /shared-libs/python3.10/py-core/lib/python3.10/site-packages (from -r ./requirements.txt (line 2)) (0.1.6)\nCollecting numpy==1.25.2\n  Downloading numpy-1.25.2-cp310-cp310-manylinux_2_17_x86_64.manylinux2014_x86_64.whl (18.2 MB)\n     ━━━━━━━━━━━━━━━━━━━━━━━━━━━━━━━━━━━━━━━━ 18.2/18.2 MB 34.6 MB/s eta 0:00:00\nCollecting pandas==2.0.3\n  Downloading pandas-2.0.3-cp310-cp310-manylinux_2_17_x86_64.manylinux2014_x86_64.whl (12.3 MB)\n     ━━━━━━━━━━━━━━━━━━━━━━━━━━━━━━━━━━━━━━━━ 12.3/12.3 MB 30.0 MB/s eta 0:00:00\nCollecting pip==23.2.1\n  Downloading pip-23.2.1-py3-none-any.whl (2.1 MB)\n     ━━━━━━━━━━━━━━━━━━━━━━━━━━━━━━━━━━━━━━━━ 2.1/2.1 MB 14.2 MB/s eta 0:00:00\nCollecting plotly==5.16.1\n  Downloading plotly-5.16.1-py2.py3-none-any.whl (15.6 MB)\n     ━━━━━━━━━━━━━━━━━━━━━━━━━━━━━━━━━━━━━━━━ 15.6/15.6 MB 49.0 MB/s eta 0:00:00\nCollecting seaborn==0.12.2\n  Downloading seaborn-0.12.2-py3-none-any.whl (293 kB)\n     ━━━━━━━━━━━━━━━━━━━━━━━━━━━━━━━━━━━━━━ 293.3/293.3 kB 23.6 MB/s eta 0:00:00\nRequirement already satisfied: python-dateutil>=2.7 in /shared-libs/python3.10/py-core/lib/python3.10/site-packages (from matplotlib==3.7.2->-r ./requirements.txt (line 1)) (2.8.2)\nRequirement already satisfied: pillow>=6.2.0 in /shared-libs/python3.10/py/lib/python3.10/site-packages (from matplotlib==3.7.2->-r ./requirements.txt (line 1)) (9.2.0)\nRequirement already satisfied: pyparsing<3.1,>=2.3.1 in /shared-libs/python3.10/py-core/lib/python3.10/site-packages (from matplotlib==3.7.2->-r ./requirements.txt (line 1)) (3.0.9)\nRequirement already satisfied: cycler>=0.10 in /shared-libs/python3.10/py/lib/python3.10/site-packages (from matplotlib==3.7.2->-r ./requirements.txt (line 1)) (0.11.0)\nRequirement already satisfied: contourpy>=1.0.1 in /shared-libs/python3.10/py/lib/python3.10/site-packages (from matplotlib==3.7.2->-r ./requirements.txt (line 1)) (1.0.5)\nRequirement already satisfied: packaging>=20.0 in /shared-libs/python3.10/py-core/lib/python3.10/site-packages (from matplotlib==3.7.2->-r ./requirements.txt (line 1)) (21.3)\nRequirement already satisfied: kiwisolver>=1.0.1 in /shared-libs/python3.10/py/lib/python3.10/site-packages (from matplotlib==3.7.2->-r ./requirements.txt (line 1)) (1.4.4)\nRequirement already satisfied: fonttools>=4.22.0 in /shared-libs/python3.10/py/lib/python3.10/site-packages (from matplotlib==3.7.2->-r ./requirements.txt (line 1)) (4.37.4)\nRequirement already satisfied: traitlets in /shared-libs/python3.10/py-core/lib/python3.10/site-packages (from matplotlib-inline==0.1.6->-r ./requirements.txt (line 2)) (5.5.0)\nRequirement already satisfied: pytz>=2020.1 in /shared-libs/python3.10/py/lib/python3.10/site-packages (from pandas==2.0.3->-r ./requirements.txt (line 4)) (2022.5)\nRequirement already satisfied: tzdata>=2022.1 in /shared-libs/python3.10/py/lib/python3.10/site-packages (from pandas==2.0.3->-r ./requirements.txt (line 4)) (2022.5)\nRequirement already satisfied: tenacity>=6.2.0 in /shared-libs/python3.10/py/lib/python3.10/site-packages (from plotly==5.16.1->-r ./requirements.txt (line 6)) (8.1.0)\nRequirement already satisfied: six>=1.5 in /shared-libs/python3.10/py-core/lib/python3.10/site-packages (from python-dateutil>=2.7->matplotlib==3.7.2->-r ./requirements.txt (line 1)) (1.16.0)\nInstalling collected packages: pip, numpy, plotly, pandas, matplotlib, seaborn\n  Attempting uninstall: pip\n    Found existing installation: pip 23.0.1\n    Uninstalling pip-23.0.1:\n      Successfully uninstalled pip-23.0.1\n  Attempting uninstall: numpy\n    Found existing installation: numpy 1.23.4\n    Not uninstalling numpy at /shared-libs/python3.10/py/lib/python3.10/site-packages, outside environment /root/venv\n    Can't uninstall 'numpy'. No files were found to uninstall.\n  Attempting uninstall: plotly\n    Found existing installation: plotly 5.10.0\n    Not uninstalling plotly at /shared-libs/python3.10/py/lib/python3.10/site-packages, outside environment /root/venv\n    Can't uninstall 'plotly'. No files were found to uninstall.\n  Attempting uninstall: pandas\n    Found existing installation: pandas 1.2.5\n    Not uninstalling pandas at /shared-libs/python3.10/py/lib/python3.10/site-packages, outside environment /root/venv\n    Can't uninstall 'pandas'. No files were found to uninstall.\n  Attempting uninstall: matplotlib\n    Found existing installation: matplotlib 3.6.0\n    Not uninstalling matplotlib at /shared-libs/python3.10/py/lib/python3.10/site-packages, outside environment /root/venv\n    Can't uninstall 'matplotlib'. No files were found to uninstall.\n  Attempting uninstall: seaborn\n    Found existing installation: seaborn 0.12.1\n    Not uninstalling seaborn at /shared-libs/python3.10/py/lib/python3.10/site-packages, outside environment /root/venv\n    Can't uninstall 'seaborn'. No files were found to uninstall.\nSuccessfully installed matplotlib-3.7.2 numpy-1.25.2 pandas-2.0.3 pip-23.2.1 plotly-5.16.1 seaborn-0.12.2\n",
          "output_type": "stream"
        }
      ],
      "execution_count": null,
      "block_group": "102f74fb52e141dca08046eec878fe4f"
    },
    {
      "cell_type": "markdown",
      "source": "<a style='text-decoration:none;line-height:16px;display:flex;color:#5B5B62;padding:10px;justify-content:end;' href='https://deepnote.com?utm_source=created-in-deepnote-cell&projectId=935c12df-95fc-47b5-a033-2935b9193bd3' target=\"_blank\">\n<img alt='Created in deepnote.com' style='display:inline;max-height:16px;margin:0px;margin-right:7.5px;' src='data:image/svg+xml;base64,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' > </img>\nCreated in <span style='font-weight:600;margin-left:4px;'>Deepnote</span></a>",
      "metadata": {
        "created_in_deepnote_cell": true,
        "deepnote_cell_type": "markdown"
      }
    }
  ],
  "nbformat": 4,
  "nbformat_minor": 0,
  "metadata": {
    "deepnote": {},
    "orig_nbformat": 2,
    "deepnote_notebook_id": "20beee40874d4723a3e28f326654c73e",
    "deepnote_execution_queue": []
  }
}