{
  "cells": [
    {
      "cell_type": "markdown",
      "source": "# Data cleaning",
      "metadata": {
        "is_collapsed": false,
        "formattedRanges": [],
        "cell_id": "073d9b2dfeb345da8f27679401ac84f4",
        "deepnote_cell_type": "text-cell-h1"
      },
      "block_group": "9d8c6ecbe6b142dcb3d71cea1ada8c1b"
    },
    {
      "cell_type": "markdown",
      "source": "For this project, we are working with two main datasets: County Health Rankings (CHR - dataset 1) and County Business Patterns (CBP - dataset 2). We merge these two datasets using FIPS codes (identifier for counties) to combine a subset of health measures from dataset 1 with industry metrics from dataset 2 for all US counties.",
      "metadata": {
        "is_collapsed": false,
        "formattedRanges": [],
        "cell_id": "ca4839ac5bab445b859a89eda0bc95b5",
        "deepnote_cell_type": "text-cell-p"
      },
      "block_group": "050c733d90d1475299d6a9f716e4c24e"
    },
    {
      "cell_type": "code",
      "source": "import numpy as np\nimport pandas as pd\nimport seaborn as sns\nimport re",
      "metadata": {
        "source_hash": null,
        "execution_start": 1697404674938,
        "execution_millis": 1444,
        "deepnote_to_be_reexecuted": false,
        "cell_id": "f458c5bc72c24ac9b284e758417d2e1a",
        "deepnote_cell_type": "code"
      },
      "outputs": [],
      "execution_count": null,
      "block_group": "21ad9c58839943b18f0fd748238adcd5"
    },
    {
      "cell_type": "markdown",
      "source": "## 1. Read and clean main dataset 1 (County Health Rankings) ",
      "metadata": {
        "is_collapsed": false,
        "formattedRanges": [],
        "cell_id": "ae60265f0ed04bfab7ebcd76b6f5f9cb",
        "deepnote_cell_type": "text-cell-h2"
      },
      "block_group": "42b9a579684248ef8b7c6017ec6b7a9f"
    },
    {
      "cell_type": "code",
      "source": "# Read in County Health Rankings analytic file (dataset 1)\nds1_chr = pd.read_csv('DS1_CHR_analytic_data2021.csv', header=1)\n# Output a subset of data for submission\nds1_chr.head(100).to_csv('Subset_ds1_chr.csv')\nprint(f'Original shape for CHR (dataset 1): {ds1_chr.shape}')\n\n# Convert fipscode to string, adding leading zeros as needed\nds1_chr['fipscode'] = ds1_chr['fipscode'].astype('string').str.zfill(5)\n\n# Drop unused/duplicated columns\nds1_chr = ds1_chr.drop(columns=['statecode', 'countycode', 'year'])\n# Drop non-county rows (ex. US, state-level)\nds1_chr = ds1_chr[ds1_chr['county'].str.lower().str.contains('county')]\n\n# Exclude 'County' from name\npattern = r'(.+)(?= County)'\nds1_chr['county'] = ds1_chr['county'].str.extract(pattern)\n\n# Keep first few columns describing location - any columns without underscore\nds1_chr_loc = ds1_chr.filter(regex=r'^(?!.*_).*$')\n\n# Manually identified subset of metrics to examine from County Health Rankings (dataset 1)\nmetrics_to_keep = ['v011', 'v049', 'v085', 'v004', 'v088', 'v062', 'v005', 'v023', \n                   'v125', 'v136', 'v147', 'v060', 'v139', 'v083', 'v156', 'v153', \n                   'v166', 'v051', 'v052', 'v053', 'v131', 'v144', 'v145']\nmetrics_to_keep = [s+'_rawvalue' for s in metrics_to_keep] + \\\n                  ['v136_other_data_'+str(n) for n in range(1,4)]\n# Extract columns containing _rawvalue and _other_data\nds1_chr_rawcols = ds1_chr.filter(regex=r'_raw|_other_data_\\d$')\nds1_chr_rawcols = ds1_chr_rawcols.filter(items=metrics_to_keep)\n\n# Merge metrics of interest with columns identifying location\nds1_chr_metrics = pd.merge(ds1_chr_loc, ds1_chr_rawcols, \n                           left_index=True, right_index=True)\n\ndel(ds1_chr_loc, ds1_chr_rawcols, metrics_to_keep)\nprint(f'Final shape for CHR (dataset 1): {ds1_chr_metrics.shape}')\nds1_chr_metrics.head()",
      "metadata": {
        "source_hash": null,
        "execution_start": 1697404676390,
        "execution_millis": 591,
        "deepnote_to_be_reexecuted": false,
        "cell_id": "33dc21b81a934715b3fb485691ff719e",
        "deepnote_cell_type": "code"
      },
      "outputs": [
        {
          "name": "stdout",
          "text": "Original shape for CHR (dataset 1): (3194, 690)\nFinal shape for CHR (dataset 1): (3007, 29)\n",
          "output_type": "stream"
        },
        {
          "output_type": "execute_result",
          "execution_count": 2,
          "data": {
            "application/vnd.deepnote.dataframe.v3+json": {
              "column_count": 29,
              "row_count": 5,
              "columns": [
                {
                  "name": "fipscode",
                  "dtype": "string",
                  "stats": {
                    "unique_count": 5,
                    "nan_count": 0,
                    "categories": [
                      {
                        "name": "01001",
                        "count": 1
                      },
                      {
                        "name": "01003",
                        "count": 1
                      },
                      {
                        "name": "3 others",
                        "count": 3
                      }
                    ]
                  }
                },
                {
                  "name": "state",
                  "dtype": "object",
                  "stats": {
                    "unique_count": 1,
                    "nan_count": 0,
                    "categories": [
                      {
                        "name": "AL",
                        "count": 5
                      }
                    ]
                  }
                },
                {
                  "name": "county",
                  "dtype": "object",
                  "stats": {
                    "unique_count": 5,
                    "nan_count": 0,
                    "categories": [
                      {
                        "name": "Autauga",
                        "count": 1
                      },
                      {
                        "name": "Baldwin",
                        "count": 1
                      },
                      {
                        "name": "3 others",
                        "count": 3
                      }
                    ]
                  }
                },
                {
                  "name": "v011_rawvalue",
                  "dtype": "float64",
                  "stats": {
                    "unique_count": 4,
                    "nan_count": 0,
                    "min": "0.3",
                    "max": "0.412",
                    "histogram": [
                      {
                        "bin_start": 0.3,
                        "bin_end": 0.3112,
                        "count": 1
                      },
                      {
                        "bin_start": 0.3112,
                        "bin_end": 0.32239999999999996,
                        "count": 0
                      },
                      {
                        "bin_start": 0.32239999999999996,
                        "bin_end": 0.3336,
                        "count": 2
                      },
                      {
                        "bin_start": 0.3336,
                        "bin_end": 0.3448,
                        "count": 0
                      },
                      {
                        "bin_start": 0.3448,
                        "bin_end": 0.356,
                        "count": 0
                      },
                      {
                        "bin_start": 0.356,
                        "bin_end": 0.36719999999999997,
                        "count": 0
                      },
                      {
                        "bin_start": 0.36719999999999997,
                        "bin_end": 0.37839999999999996,
                        "count": 1
                      },
                      {
                        "bin_start": 0.37839999999999996,
                        "bin_end": 0.38959999999999995,
                        "count": 0
                      },
                      {
                        "bin_start": 0.38959999999999995,
                        "bin_end": 0.4008,
                        "count": 0
                      },
                      {
                        "bin_start": 0.4008,
                        "bin_end": 0.412,
                        "count": 1
                      }
                    ]
                  }
                },
                {
                  "name": "v049_rawvalue",
                  "dtype": "float64",
                  "stats": {
                    "unique_count": 5,
                    "nan_count": 0,
                    "min": "0.1246697372",
                    "max": "0.1873695763",
                    "histogram": [
                      {
                        "bin_start": 0.1246697372,
                        "bin_end": 0.13093972111000002,
                        "count": 1
                      },
                      {
                        "bin_start": 0.13093972111000002,
                        "bin_end": 0.13720970502000002,
                        "count": 0
                      },
                      {
                        "bin_start": 0.13720970502000002,
                        "bin_end": 0.14347968893000002,
                        "count": 0
                      },
                      {
                        "bin_start": 0.14347968893000002,
                        "bin_end": 0.14974967284000001,
                        "count": 1
                      },
                      {
                        "bin_start": 0.14974967284000001,
                        "bin_end": 0.15601965675,
                        "count": 1
                      },
                      {
                        "bin_start": 0.15601965675,
                        "bin_end": 0.16228964066,
                        "count": 1
                      },
                      {
                        "bin_start": 0.16228964066,
                        "bin_end": 0.16855962457,
                        "count": 0
                      },
                      {
                        "bin_start": 0.16855962457,
                        "bin_end": 0.17482960848,
                        "count": 0
                      },
                      {
                        "bin_start": 0.17482960848,
                        "bin_end": 0.18109959239,
                        "count": 0
                      },
                      {
                        "bin_start": 0.18109959239,
                        "bin_end": 0.1873695763,
                        "count": 1
                      }
                    ]
                  }
                },
                {
                  "name": "v085_rawvalue",
                  "dtype": "float64",
                  "stats": {
                    "unique_count": 5,
                    "nan_count": 0,
                    "min": "0.1004731422",
                    "max": "0.1411599685",
                    "histogram": [
                      {
                        "bin_start": 0.1004731422,
                        "bin_end": 0.10454182483,
                        "count": 1
                      },
                      {
                        "bin_start": 0.10454182483,
                        "bin_end": 0.10861050746,
                        "count": 1
                      },
                      {
                        "bin_start": 0.10861050746,
                        "bin_end": 0.11267919009,
                        "count": 0
                      },
                      {
                        "bin_start": 0.11267919009,
                        "bin_end": 0.11674787272,
                        "count": 0
                      },
                      {
                        "bin_start": 0.11674787272,
                        "bin_end": 0.12081655535000001,
                        "count": 0
                      },
                      {
                        "bin_start": 0.12081655535000001,
                        "bin_end": 0.12488523798000001,
                        "count": 0
                      },
                      {
                        "bin_start": 0.12488523798000001,
                        "bin_end": 0.12895392061,
                        "count": 0
                      },
                      {
                        "bin_start": 0.12895392061,
                        "bin_end": 0.13302260324,
                        "count": 1
                      },
                      {
                        "bin_start": 0.13302260324,
                        "bin_end": 0.13709128587000002,
                        "count": 1
                      },
                      {
                        "bin_start": 0.13709128587000002,
                        "bin_end": 0.1411599685,
                        "count": 1
                      }
                    ]
                  }
                },
                {
                  "name": "v004_rawvalue",
                  "dtype": "float64",
                  "stats": {
                    "unique_count": 5,
                    "nan_count": 0,
                    "min": "0.0002074689",
                    "max": "0.000701764",
                    "histogram": [
                      {
                        "bin_start": 0.0002074689,
                        "bin_end": 0.00025689840999999997,
                        "count": 1
                      },
                      {
                        "bin_start": 0.00025689840999999997,
                        "bin_end": 0.00030632792,
                        "count": 0
                      },
                      {
                        "bin_start": 0.00030632792,
                        "bin_end": 0.00035575742999999996,
                        "count": 1
                      },
                      {
                        "bin_start": 0.00035575742999999996,
                        "bin_end": 0.00040518694,
                        "count": 0
                      },
                      {
                        "bin_start": 0.00040518694,
                        "bin_end": 0.00045461644999999996,
                        "count": 0
                      },
                      {
                        "bin_start": 0.00045461644999999996,
                        "bin_end": 0.00050404596,
                        "count": 1
                      },
                      {
                        "bin_start": 0.00050404596,
                        "bin_end": 0.00055347547,
                        "count": 1
                      },
                      {
                        "bin_start": 0.00055347547,
                        "bin_end": 0.00060290498,
                        "count": 0
                      },
                      {
                        "bin_start": 0.00060290498,
                        "bin_end": 0.00065233449,
                        "count": 0
                      },
                      {
                        "bin_start": 0.00065233449,
                        "bin_end": 0.000701764,
                        "count": 1
                      }
                    ]
                  }
                },
                {
                  "name": "v088_rawvalue",
                  "dtype": "float64",
                  "stats": {
                    "unique_count": 5,
                    "nan_count": 0,
                    "min": "0.0001902258",
                    "max": "0.0004927565",
                    "histogram": [
                      {
                        "bin_start": 0.0001902258,
                        "bin_end": 0.00022047887,
                        "count": 1
                      },
                      {
                        "bin_start": 0.00022047887,
                        "bin_end": 0.00025073194,
                        "count": 1
                      },
                      {
                        "bin_start": 0.00025073194,
                        "bin_end": 0.00028098501,
                        "count": 0
                      },
                      {
                        "bin_start": 0.00028098501,
                        "bin_end": 0.00031123808,
                        "count": 0
                      },
                      {
                        "bin_start": 0.00031123808,
                        "bin_end": 0.00034149115,
                        "count": 1
                      },
                      {
                        "bin_start": 0.00034149115,
                        "bin_end": 0.00037174422,
                        "count": 1
                      },
                      {
                        "bin_start": 0.00037174422,
                        "bin_end": 0.00040199729,
                        "count": 0
                      },
                      {
                        "bin_start": 0.00040199729,
                        "bin_end": 0.00043225036,
                        "count": 0
                      },
                      {
                        "bin_start": 0.00043225036,
                        "bin_end": 0.00046250343,
                        "count": 0
                      },
                      {
                        "bin_start": 0.00046250343,
                        "bin_end": 0.0004927565,
                        "count": 1
                      }
                    ]
                  }
                },
                {
                  "name": "v062_rawvalue",
                  "dtype": "float64",
                  "stats": {
                    "unique_count": 5,
                    "nan_count": 0,
                    "min": "0.0001215264",
                    "max": "0.000985513",
                    "histogram": [
                      {
                        "bin_start": 0.0001215264,
                        "bin_end": 0.00020792506,
                        "count": 2
                      },
                      {
                        "bin_start": 0.00020792506,
                        "bin_end": 0.00029432372000000003,
                        "count": 2
                      },
                      {
                        "bin_start": 0.00029432372000000003,
                        "bin_end": 0.00038072238,
                        "count": 0
                      },
                      {
                        "bin_start": 0.00038072238,
                        "bin_end": 0.00046712104,
                        "count": 0
                      },
                      {
                        "bin_start": 0.00046712104,
                        "bin_end": 0.0005535197,
                        "count": 0
                      },
                      {
                        "bin_start": 0.0005535197,
                        "bin_end": 0.00063991836,
                        "count": 0
                      },
                      {
                        "bin_start": 0.00063991836,
                        "bin_end": 0.00072631702,
                        "count": 0
                      },
                      {
                        "bin_start": 0.00072631702,
                        "bin_end": 0.00081271568,
                        "count": 0
                      },
                      {
                        "bin_start": 0.00081271568,
                        "bin_end": 0.00089911434,
                        "count": 0
                      },
                      {
                        "bin_start": 0.00089911434,
                        "bin_end": 0.000985513,
                        "count": 1
                      }
                    ]
                  }
                },
                {
                  "name": "v005_rawvalue",
                  "dtype": "float64",
                  "stats": {
                    "unique_count": 5,
                    "nan_count": 0,
                    "min": "3471.0",
                    "max": "6690.0",
                    "histogram": [
                      {
                        "bin_start": 3471,
                        "bin_end": 3792.9,
                        "count": 1
                      },
                      {
                        "bin_start": 3792.9,
                        "bin_end": 4114.8,
                        "count": 0
                      },
                      {
                        "bin_start": 4114.8,
                        "bin_end": 4436.7,
                        "count": 0
                      },
                      {
                        "bin_start": 4436.7,
                        "bin_end": 4758.6,
                        "count": 1
                      },
                      {
                        "bin_start": 4758.6,
                        "bin_end": 5080.5,
                        "count": 0
                      },
                      {
                        "bin_start": 5080.5,
                        "bin_end": 5402.4,
                        "count": 1
                      },
                      {
                        "bin_start": 5402.4,
                        "bin_end": 5724.299999999999,
                        "count": 0
                      },
                      {
                        "bin_start": 5724.299999999999,
                        "bin_end": 6046.2,
                        "count": 0
                      },
                      {
                        "bin_start": 6046.2,
                        "bin_end": 6368.1,
                        "count": 0
                      },
                      {
                        "bin_start": 6368.1,
                        "bin_end": 6690,
                        "count": 2
                      }
                    ]
                  }
                },
                {
                  "name": "v023_rawvalue",
                  "dtype": "float64",
                  "stats": {
                    "unique_count": 5,
                    "nan_count": 0,
                    "min": "0.0266866685",
                    "max": "0.0379524423",
                    "histogram": [
                      {
                        "bin_start": 0.0266866685,
                        "bin_end": 0.02781324588,
                        "count": 3
                      },
                      {
                        "bin_start": 0.02781324588,
                        "bin_end": 0.02893982326,
                        "count": 0
                      },
                      {
                        "bin_start": 0.02893982326,
                        "bin_end": 0.03006640064,
                        "count": 0
                      },
                      {
                        "bin_start": 0.03006640064,
                        "bin_end": 0.031192978019999998,
                        "count": 1
                      },
                      {
                        "bin_start": 0.031192978019999998,
                        "bin_end": 0.0323195554,
                        "count": 0
                      },
                      {
                        "bin_start": 0.0323195554,
                        "bin_end": 0.03344613278,
                        "count": 0
                      },
                      {
                        "bin_start": 0.03344613278,
                        "bin_end": 0.03457271016,
                        "count": 0
                      },
                      {
                        "bin_start": 0.03457271016,
                        "bin_end": 0.03569928754,
                        "count": 0
                      },
                      {
                        "bin_start": 0.03569928754,
                        "bin_end": 0.03682586492,
                        "count": 0
                      },
                      {
                        "bin_start": 0.03682586492,
                        "bin_end": 0.0379524423,
                        "count": 1
                      }
                    ]
                  }
                },
                {
                  "name": "v125_rawvalue",
                  "dtype": "float64",
                  "stats": {
                    "unique_count": 5,
                    "nan_count": 0,
                    "min": "7.2",
                    "max": "10.6",
                    "histogram": [
                      {
                        "bin_start": 7.2,
                        "bin_end": 7.54,
                        "count": 1
                      },
                      {
                        "bin_start": 7.54,
                        "bin_end": 7.88,
                        "count": 0
                      },
                      {
                        "bin_start": 7.88,
                        "bin_end": 8.22,
                        "count": 0
                      },
                      {
                        "bin_start": 8.22,
                        "bin_end": 8.56,
                        "count": 0
                      },
                      {
                        "bin_start": 8.56,
                        "bin_end": 8.9,
                        "count": 0
                      },
                      {
                        "bin_start": 8.9,
                        "bin_end": 9.24,
                        "count": 0
                      },
                      {
                        "bin_start": 9.24,
                        "bin_end": 9.58,
                        "count": 1
                      },
                      {
                        "bin_start": 9.58,
                        "bin_end": 9.92,
                        "count": 0
                      },
                      {
                        "bin_start": 9.92,
                        "bin_end": 10.26,
                        "count": 1
                      },
                      {
                        "bin_start": 10.26,
                        "bin_end": 10.6,
                        "count": 2
                      }
                    ]
                  }
                },
                {
                  "name": "v136_rawvalue",
                  "dtype": "float64",
                  "stats": {
                    "unique_count": 5,
                    "nan_count": 0,
                    "min": "0.0925524223",
                    "max": "0.1371055495",
                    "histogram": [
                      {
                        "bin_start": 0.0925524223,
                        "bin_end": 0.09700773502000001,
                        "count": 1
                      },
                      {
                        "bin_start": 0.09700773502000001,
                        "bin_end": 0.10146304774,
                        "count": 1
                      },
                      {
                        "bin_start": 0.10146304774,
                        "bin_end": 0.10591836046,
                        "count": 0
                      },
                      {
                        "bin_start": 0.10591836046,
                        "bin_end": 0.11037367318,
                        "count": 0
                      },
                      {
                        "bin_start": 0.11037367318,
                        "bin_end": 0.11482898590000001,
                        "count": 0
                      },
                      {
                        "bin_start": 0.11482898590000001,
                        "bin_end": 0.11928429862,
                        "count": 0
                      },
                      {
                        "bin_start": 0.11928429862,
                        "bin_end": 0.12373961134,
                        "count": 0
                      },
                      {
                        "bin_start": 0.12373961134,
                        "bin_end": 0.12819492406,
                        "count": 0
                      },
                      {
                        "bin_start": 0.12819492406,
                        "bin_end": 0.13265023678,
                        "count": 1
                      },
                      {
                        "bin_start": 0.13265023678,
                        "bin_end": 0.1371055495,
                        "count": 2
                      }
                    ]
                  }
                },
                {
                  "name": "v147_rawvalue",
                  "dtype": "float64",
                  "stats": {
                    "unique_count": 5,
                    "nan_count": 0,
                    "min": "73.408783662",
                    "max": "78.213404894",
                    "histogram": [
                      {
                        "bin_start": 73.408783662,
                        "bin_end": 73.8892457852,
                        "count": 1
                      },
                      {
                        "bin_start": 73.8892457852,
                        "bin_end": 74.3697079084,
                        "count": 1
                      },
                      {
                        "bin_start": 74.3697079084,
                        "bin_end": 74.8501700316,
                        "count": 1
                      },
                      {
                        "bin_start": 74.8501700316,
                        "bin_end": 75.3306321548,
                        "count": 0
                      },
                      {
                        "bin_start": 75.3306321548,
                        "bin_end": 75.81109427800001,
                        "count": 0
                      },
                      {
                        "bin_start": 75.81109427800001,
                        "bin_end": 76.29155640120001,
                        "count": 0
                      },
                      {
                        "bin_start": 76.29155640120001,
                        "bin_end": 76.77201852440001,
                        "count": 0
                      },
                      {
                        "bin_start": 76.77201852440001,
                        "bin_end": 77.25248064760001,
                        "count": 1
                      },
                      {
                        "bin_start": 77.25248064760001,
                        "bin_end": 77.73294277080001,
                        "count": 0
                      },
                      {
                        "bin_start": 77.73294277080001,
                        "bin_end": 78.213404894,
                        "count": 1
                      }
                    ]
                  }
                },
                {
                  "name": "v060_rawvalue",
                  "dtype": "float64",
                  "stats": {
                    "unique_count": 5,
                    "nan_count": 0,
                    "min": "0.103",
                    "max": "0.175",
                    "histogram": [
                      {
                        "bin_start": 0.103,
                        "bin_end": 0.11019999999999999,
                        "count": 1
                      },
                      {
                        "bin_start": 0.11019999999999999,
                        "bin_end": 0.11739999999999999,
                        "count": 0
                      },
                      {
                        "bin_start": 0.11739999999999999,
                        "bin_end": 0.12459999999999999,
                        "count": 0
                      },
                      {
                        "bin_start": 0.12459999999999999,
                        "bin_end": 0.1318,
                        "count": 1
                      },
                      {
                        "bin_start": 0.1318,
                        "bin_end": 0.13899999999999998,
                        "count": 1
                      },
                      {
                        "bin_start": 0.13899999999999998,
                        "bin_end": 0.1462,
                        "count": 1
                      },
                      {
                        "bin_start": 0.1462,
                        "bin_end": 0.15339999999999998,
                        "count": 0
                      },
                      {
                        "bin_start": 0.15339999999999998,
                        "bin_end": 0.1606,
                        "count": 0
                      },
                      {
                        "bin_start": 0.1606,
                        "bin_end": 0.1678,
                        "count": 0
                      },
                      {
                        "bin_start": 0.1678,
                        "bin_end": 0.175,
                        "count": 1
                      }
                    ]
                  }
                },
                {
                  "name": "v139_rawvalue",
                  "dtype": "float64",
                  "stats": {
                    "unique_count": 5,
                    "nan_count": 0,
                    "min": "0.129",
                    "max": "0.219",
                    "histogram": [
                      {
                        "bin_start": 0.129,
                        "bin_end": 0.138,
                        "count": 2
                      },
                      {
                        "bin_start": 0.138,
                        "bin_end": 0.147,
                        "count": 0
                      },
                      {
                        "bin_start": 0.147,
                        "bin_end": 0.156,
                        "count": 1
                      },
                      {
                        "bin_start": 0.156,
                        "bin_end": 0.165,
                        "count": 1
                      },
                      {
                        "bin_start": 0.165,
                        "bin_end": 0.174,
                        "count": 0
                      },
                      {
                        "bin_start": 0.174,
                        "bin_end": 0.183,
                        "count": 0
                      },
                      {
                        "bin_start": 0.183,
                        "bin_end": 0.192,
                        "count": 0
                      },
                      {
                        "bin_start": 0.192,
                        "bin_end": 0.201,
                        "count": 0
                      },
                      {
                        "bin_start": 0.201,
                        "bin_end": 0.21,
                        "count": 0
                      },
                      {
                        "bin_start": 0.21,
                        "bin_end": 0.219,
                        "count": 1
                      }
                    ]
                  }
                },
                {
                  "name": "v083_rawvalue",
                  "dtype": "float64",
                  "stats": {
                    "unique_count": 5,
                    "nan_count": 0,
                    "min": "0.0260162701",
                    "max": "0.11991125",
                    "histogram": [
                      {
                        "bin_start": 0.0260162701,
                        "bin_end": 0.03540576809,
                        "count": 2
                      },
                      {
                        "bin_start": 0.03540576809,
                        "bin_end": 0.04479526607999999,
                        "count": 0
                      },
                      {
                        "bin_start": 0.04479526607999999,
                        "bin_end": 0.054184764069999995,
                        "count": 0
                      },
                      {
                        "bin_start": 0.054184764069999995,
                        "bin_end": 0.06357426206,
                        "count": 1
                      },
                      {
                        "bin_start": 0.06357426206,
                        "bin_end": 0.07296376004999999,
                        "count": 0
                      },
                      {
                        "bin_start": 0.07296376004999999,
                        "bin_end": 0.08235325803999999,
                        "count": 0
                      },
                      {
                        "bin_start": 0.08235325803999999,
                        "bin_end": 0.09174275603,
                        "count": 0
                      },
                      {
                        "bin_start": 0.09174275603,
                        "bin_end": 0.10113225401999999,
                        "count": 0
                      },
                      {
                        "bin_start": 0.10113225401999999,
                        "bin_end": 0.11052175200999999,
                        "count": 1
                      },
                      {
                        "bin_start": 0.11052175200999999,
                        "bin_end": 0.11991125,
                        "count": 1
                      }
                    ]
                  }
                },
                {
                  "name": "v156_rawvalue",
                  "dtype": "float64",
                  "stats": {
                    "unique_count": 5,
                    "nan_count": 0,
                    "min": "26.588748145",
                    "max": "155.09552349",
                    "histogram": [
                      {
                        "bin_start": 26.588748145,
                        "bin_end": 39.4394256795,
                        "count": 1
                      },
                      {
                        "bin_start": 39.4394256795,
                        "bin_end": 52.290103214,
                        "count": 1
                      },
                      {
                        "bin_start": 52.290103214,
                        "bin_end": 65.14078074849999,
                        "count": 0
                      },
                      {
                        "bin_start": 65.14078074849999,
                        "bin_end": 77.991458283,
                        "count": 0
                      },
                      {
                        "bin_start": 77.991458283,
                        "bin_end": 90.8421358175,
                        "count": 0
                      },
                      {
                        "bin_start": 90.8421358175,
                        "bin_end": 103.69281335199999,
                        "count": 1
                      },
                      {
                        "bin_start": 103.69281335199999,
                        "bin_end": 116.5434908865,
                        "count": 0
                      },
                      {
                        "bin_start": 116.5434908865,
                        "bin_end": 129.394168421,
                        "count": 0
                      },
                      {
                        "bin_start": 129.394168421,
                        "bin_end": 142.24484595549998,
                        "count": 1
                      },
                      {
                        "bin_start": 142.24484595549998,
                        "bin_end": 155.09552349,
                        "count": 1
                      }
                    ]
                  }
                },
                {
                  "name": "v153_rawvalue",
                  "dtype": "float64",
                  "stats": {
                    "unique_count": 5,
                    "nan_count": 0,
                    "min": "0.608988764",
                    "max": "0.7877872116",
                    "histogram": [
                      {
                        "bin_start": 0.608988764,
                        "bin_end": 0.6268686087600001,
                        "count": 1
                      },
                      {
                        "bin_start": 0.6268686087600001,
                        "bin_end": 0.64474845352,
                        "count": 0
                      },
                      {
                        "bin_start": 0.64474845352,
                        "bin_end": 0.66262829828,
                        "count": 0
                      },
                      {
                        "bin_start": 0.66262829828,
                        "bin_end": 0.68050814304,
                        "count": 0
                      },
                      {
                        "bin_start": 0.68050814304,
                        "bin_end": 0.6983879878,
                        "count": 0
                      },
                      {
                        "bin_start": 0.6983879878,
                        "bin_end": 0.71626783256,
                        "count": 0
                      },
                      {
                        "bin_start": 0.71626783256,
                        "bin_end": 0.73414767732,
                        "count": 1
                      },
                      {
                        "bin_start": 0.73414767732,
                        "bin_end": 0.75202752208,
                        "count": 1
                      },
                      {
                        "bin_start": 0.75202752208,
                        "bin_end": 0.7699073668399999,
                        "count": 1
                      },
                      {
                        "bin_start": 0.7699073668399999,
                        "bin_end": 0.7877872116,
                        "count": 1
                      }
                    ]
                  }
                },
                {
                  "name": "v166_rawvalue",
                  "dtype": "float64",
                  "stats": {
                    "unique_count": 5,
                    "nan_count": 0,
                    "min": "0.6052434457",
                    "max": "0.8181638453",
                    "histogram": [
                      {
                        "bin_start": 0.6052434457,
                        "bin_end": 0.62653548566,
                        "count": 1
                      },
                      {
                        "bin_start": 0.62653548566,
                        "bin_end": 0.64782752562,
                        "count": 0
                      },
                      {
                        "bin_start": 0.64782752562,
                        "bin_end": 0.66911956558,
                        "count": 0
                      },
                      {
                        "bin_start": 0.66911956558,
                        "bin_end": 0.69041160554,
                        "count": 0
                      },
                      {
                        "bin_start": 0.69041160554,
                        "bin_end": 0.7117036455,
                        "count": 1
                      },
                      {
                        "bin_start": 0.7117036455,
                        "bin_end": 0.7329956854599999,
                        "count": 1
                      },
                      {
                        "bin_start": 0.7329956854599999,
                        "bin_end": 0.75428772542,
                        "count": 0
                      },
                      {
                        "bin_start": 0.75428772542,
                        "bin_end": 0.77557976538,
                        "count": 0
                      },
                      {
                        "bin_start": 0.77557976538,
                        "bin_end": 0.79687180534,
                        "count": 0
                      },
                      {
                        "bin_start": 0.79687180534,
                        "bin_end": 0.8181638453,
                        "count": 2
                      }
                    ]
                  }
                },
                {
                  "name": "v051_rawvalue",
                  "dtype": "int64",
                  "stats": {
                    "unique_count": 5,
                    "nan_count": 0,
                    "min": "22394",
                    "max": "223234",
                    "histogram": [
                      {
                        "bin_start": 22394,
                        "bin_end": 42478,
                        "count": 2
                      },
                      {
                        "bin_start": 42478,
                        "bin_end": 62562,
                        "count": 2
                      },
                      {
                        "bin_start": 62562,
                        "bin_end": 82646,
                        "count": 0
                      },
                      {
                        "bin_start": 82646,
                        "bin_end": 102730,
                        "count": 0
                      },
                      {
                        "bin_start": 102730,
                        "bin_end": 122814,
                        "count": 0
                      },
                      {
                        "bin_start": 122814,
                        "bin_end": 142898,
                        "count": 0
                      },
                      {
                        "bin_start": 142898,
                        "bin_end": 162982,
                        "count": 0
                      },
                      {
                        "bin_start": 162982,
                        "bin_end": 183066,
                        "count": 0
                      },
                      {
                        "bin_start": 183066,
                        "bin_end": 203150,
                        "count": 0
                      },
                      {
                        "bin_start": 203150,
                        "bin_end": 223234,
                        "count": 1
                      }
                    ]
                  }
                },
                {
                  "name": "v052_rawvalue",
                  "dtype": "float64",
                  "stats": {
                    "unique_count": 5,
                    "nan_count": 0,
                    "min": "0.2034920068",
                    "max": "0.2320607135",
                    "histogram": [
                      {
                        "bin_start": 0.2034920068,
                        "bin_end": 0.20634887747000003,
                        "count": 2
                      },
                      {
                        "bin_start": 0.20634887747000003,
                        "bin_end": 0.20920574814,
                        "count": 0
                      },
                      {
                        "bin_start": 0.20920574814,
                        "bin_end": 0.21206261881,
                        "count": 0
                      },
                      {
                        "bin_start": 0.21206261881,
                        "bin_end": 0.21491948948,
                        "count": 1
                      },
                      {
                        "bin_start": 0.21491948948,
                        "bin_end": 0.21777636015000001,
                        "count": 0
                      },
                      {
                        "bin_start": 0.21777636015000001,
                        "bin_end": 0.22063323082,
                        "count": 0
                      },
                      {
                        "bin_start": 0.22063323082,
                        "bin_end": 0.22349010148999998,
                        "count": 0
                      },
                      {
                        "bin_start": 0.22349010148999998,
                        "bin_end": 0.22634697216,
                        "count": 0
                      },
                      {
                        "bin_start": 0.22634697216,
                        "bin_end": 0.22920384283,
                        "count": 0
                      },
                      {
                        "bin_start": 0.22920384283,
                        "bin_end": 0.2320607135,
                        "count": 2
                      }
                    ]
                  }
                },
                {
                  "name": "v053_rawvalue",
                  "dtype": "float64",
                  "stats": {
                    "unique_count": 5,
                    "nan_count": 0,
                    "min": "0.1597307988",
                    "max": "0.2097798722",
                    "histogram": [
                      {
                        "bin_start": 0.1597307988,
                        "bin_end": 0.16473570614,
                        "count": 1
                      },
                      {
                        "bin_start": 0.16473570614,
                        "bin_end": 0.16974061348,
                        "count": 1
                      },
                      {
                        "bin_start": 0.16974061348,
                        "bin_end": 0.17474552082,
                        "count": 0
                      },
                      {
                        "bin_start": 0.17474552082,
                        "bin_end": 0.17975042816,
                        "count": 0
                      },
                      {
                        "bin_start": 0.17975042816,
                        "bin_end": 0.1847553355,
                        "count": 0
                      },
                      {
                        "bin_start": 0.1847553355,
                        "bin_end": 0.18976024283999998,
                        "count": 1
                      },
                      {
                        "bin_start": 0.18976024283999998,
                        "bin_end": 0.19476515017999999,
                        "count": 0
                      },
                      {
                        "bin_start": 0.19476515017999999,
                        "bin_end": 0.19977005752,
                        "count": 1
                      },
                      {
                        "bin_start": 0.19977005752,
                        "bin_end": 0.20477496486,
                        "count": 0
                      },
                      {
                        "bin_start": 0.20477496486,
                        "bin_end": 0.2097798722,
                        "count": 1
                      }
                    ]
                  }
                },
                {
                  "name": "v131_rawvalue",
                  "dtype": "float64",
                  "stats": {
                    "unique_count": 5,
                    "nan_count": 0,
                    "min": "0.0002421056",
                    "max": "0.0012056801",
                    "histogram": [
                      {
                        "bin_start": 0.0002421056,
                        "bin_end": 0.00033846305,
                        "count": 1
                      },
                      {
                        "bin_start": 0.00033846305,
                        "bin_end": 0.0004348205,
                        "count": 1
                      },
                      {
                        "bin_start": 0.0004348205,
                        "bin_end": 0.00053117795,
                        "count": 0
                      },
                      {
                        "bin_start": 0.00053117795,
                        "bin_end": 0.0006275354,
                        "count": 1
                      },
                      {
                        "bin_start": 0.0006275354,
                        "bin_end": 0.0007238928499999999,
                        "count": 1
                      },
                      {
                        "bin_start": 0.0007238928499999999,
                        "bin_end": 0.0008202503000000001,
                        "count": 0
                      },
                      {
                        "bin_start": 0.0008202503000000001,
                        "bin_end": 0.0009166077500000001,
                        "count": 0
                      },
                      {
                        "bin_start": 0.0009166077500000001,
                        "bin_end": 0.0010129652,
                        "count": 0
                      },
                      {
                        "bin_start": 0.0010129652,
                        "bin_end": 0.00110932265,
                        "count": 0
                      },
                      {
                        "bin_start": 0.00110932265,
                        "bin_end": 0.0012056801,
                        "count": 1
                      }
                    ]
                  }
                },
                {
                  "name": "v144_rawvalue",
                  "dtype": "float64",
                  "stats": {
                    "unique_count": 5,
                    "nan_count": 0,
                    "min": "0.1161164107",
                    "max": "0.181321046",
                    "histogram": [
                      {
                        "bin_start": 0.1161164107,
                        "bin_end": 0.12263687423000001,
                        "count": 1
                      },
                      {
                        "bin_start": 0.12263687423000001,
                        "bin_end": 0.12915733776000002,
                        "count": 0
                      },
                      {
                        "bin_start": 0.12915733776000002,
                        "bin_end": 0.13567780129,
                        "count": 1
                      },
                      {
                        "bin_start": 0.13567780129,
                        "bin_end": 0.14219826482,
                        "count": 0
                      },
                      {
                        "bin_start": 0.14219826482,
                        "bin_end": 0.14871872835,
                        "count": 1
                      },
                      {
                        "bin_start": 0.14871872835,
                        "bin_end": 0.15523919188000002,
                        "count": 1
                      },
                      {
                        "bin_start": 0.15523919188000002,
                        "bin_end": 0.16175965541,
                        "count": 0
                      },
                      {
                        "bin_start": 0.16175965541,
                        "bin_end": 0.16828011894,
                        "count": 0
                      },
                      {
                        "bin_start": 0.16828011894,
                        "bin_end": 0.17480058247000002,
                        "count": 0
                      },
                      {
                        "bin_start": 0.17480058247000002,
                        "bin_end": 0.181321046,
                        "count": 1
                      }
                    ]
                  }
                },
                {
                  "name": "v145_rawvalue",
                  "dtype": "float64",
                  "stats": {
                    "unique_count": 5,
                    "nan_count": 0,
                    "min": "0.1475556542",
                    "max": "0.1895469464",
                    "histogram": [
                      {
                        "bin_start": 0.1475556542,
                        "bin_end": 0.15175478341999998,
                        "count": 1
                      },
                      {
                        "bin_start": 0.15175478341999998,
                        "bin_end": 0.15595391264,
                        "count": 0
                      },
                      {
                        "bin_start": 0.15595391264,
                        "bin_end": 0.16015304186,
                        "count": 1
                      },
                      {
                        "bin_start": 0.16015304186,
                        "bin_end": 0.16435217108,
                        "count": 0
                      },
                      {
                        "bin_start": 0.16435217108,
                        "bin_end": 0.16855130029999998,
                        "count": 0
                      },
                      {
                        "bin_start": 0.16855130029999998,
                        "bin_end": 0.17275042952,
                        "count": 2
                      },
                      {
                        "bin_start": 0.17275042952,
                        "bin_end": 0.17694955874,
                        "count": 0
                      },
                      {
                        "bin_start": 0.17694955874,
                        "bin_end": 0.18114868796,
                        "count": 0
                      },
                      {
                        "bin_start": 0.18114868796,
                        "bin_end": 0.18534781717999999,
                        "count": 0
                      },
                      {
                        "bin_start": 0.18534781717999999,
                        "bin_end": 0.1895469464,
                        "count": 1
                      }
                    ]
                  }
                },
                {
                  "name": "v136_other_data_1",
                  "dtype": "float64",
                  "stats": {
                    "unique_count": 5,
                    "nan_count": 0,
                    "min": "0.0746885899",
                    "max": "0.1259425999",
                    "histogram": [
                      {
                        "bin_start": 0.0746885899,
                        "bin_end": 0.0798139909,
                        "count": 1
                      },
                      {
                        "bin_start": 0.0798139909,
                        "bin_end": 0.08493939190000001,
                        "count": 1
                      },
                      {
                        "bin_start": 0.08493939190000001,
                        "bin_end": 0.09006479290000001,
                        "count": 0
                      },
                      {
                        "bin_start": 0.09006479290000001,
                        "bin_end": 0.0951901939,
                        "count": 0
                      },
                      {
                        "bin_start": 0.0951901939,
                        "bin_end": 0.1003155949,
                        "count": 0
                      },
                      {
                        "bin_start": 0.1003155949,
                        "bin_end": 0.1054409959,
                        "count": 0
                      },
                      {
                        "bin_start": 0.1054409959,
                        "bin_end": 0.1105663969,
                        "count": 0
                      },
                      {
                        "bin_start": 0.1105663969,
                        "bin_end": 0.1156917979,
                        "count": 0
                      },
                      {
                        "bin_start": 0.1156917979,
                        "bin_end": 0.1208171989,
                        "count": 2
                      },
                      {
                        "bin_start": 0.1208171989,
                        "bin_end": 0.1259425999,
                        "count": 1
                      }
                    ]
                  }
                },
                {
                  "name": "v136_other_data_2",
                  "dtype": "float64",
                  "stats": {
                    "unique_count": 5,
                    "nan_count": 0,
                    "min": "0.0056399132",
                    "max": "0.0195865071",
                    "histogram": [
                      {
                        "bin_start": 0.0056399132,
                        "bin_end": 0.00703457259,
                        "count": 1
                      },
                      {
                        "bin_start": 0.00703457259,
                        "bin_end": 0.00842923198,
                        "count": 0
                      },
                      {
                        "bin_start": 0.00842923198,
                        "bin_end": 0.00982389137,
                        "count": 0
                      },
                      {
                        "bin_start": 0.00982389137,
                        "bin_end": 0.011218550760000001,
                        "count": 2
                      },
                      {
                        "bin_start": 0.011218550760000001,
                        "bin_end": 0.012613210150000002,
                        "count": 0
                      },
                      {
                        "bin_start": 0.012613210150000002,
                        "bin_end": 0.014007869539999999,
                        "count": 0
                      },
                      {
                        "bin_start": 0.014007869539999999,
                        "bin_end": 0.01540252893,
                        "count": 0
                      },
                      {
                        "bin_start": 0.01540252893,
                        "bin_end": 0.01679718832,
                        "count": 0
                      },
                      {
                        "bin_start": 0.01679718832,
                        "bin_end": 0.01819184771,
                        "count": 1
                      },
                      {
                        "bin_start": 0.01819184771,
                        "bin_end": 0.0195865071,
                        "count": 1
                      }
                    ]
                  }
                },
                {
                  "name": "v136_other_data_3",
                  "dtype": "float64",
                  "stats": {
                    "unique_count": 5,
                    "nan_count": 0,
                    "min": "0.0033493137",
                    "max": "0.0154357635",
                    "histogram": [
                      {
                        "bin_start": 0.0033493137,
                        "bin_end": 0.00455795868,
                        "count": 1
                      },
                      {
                        "bin_start": 0.00455795868,
                        "bin_end": 0.0057666036599999995,
                        "count": 1
                      },
                      {
                        "bin_start": 0.0057666036599999995,
                        "bin_end": 0.00697524864,
                        "count": 1
                      },
                      {
                        "bin_start": 0.00697524864,
                        "bin_end": 0.00818389362,
                        "count": 0
                      },
                      {
                        "bin_start": 0.00818389362,
                        "bin_end": 0.0093925386,
                        "count": 0
                      },
                      {
                        "bin_start": 0.0093925386,
                        "bin_end": 0.01060118358,
                        "count": 0
                      },
                      {
                        "bin_start": 0.01060118358,
                        "bin_end": 0.011809828560000001,
                        "count": 1
                      },
                      {
                        "bin_start": 0.011809828560000001,
                        "bin_end": 0.01301847354,
                        "count": 0
                      },
                      {
                        "bin_start": 0.01301847354,
                        "bin_end": 0.01422711852,
                        "count": 0
                      },
                      {
                        "bin_start": 0.01422711852,
                        "bin_end": 0.0154357635,
                        "count": 1
                      }
                    ]
                  }
                },
                {
                  "name": "_deepnote_index_column",
                  "dtype": "int64"
                }
              ],
              "rows": [
                {
                  "fipscode": "01001",
                  "state": "AL",
                  "county": "Autauga",
                  "v011_rawvalue": 0.33,
                  "v049_rawvalue": 0.1447388631,
                  "v085_rawvalue": 0.1004731422,
                  "v004_rawvalue": 0.0004676175,
                  "v088_rawvalue": 0.0003400813,
                  "v062_rawvalue": 0.0002863842,
                  "v005_rawvalue": 6650,
                  "v023_rawvalue": 0.0272810637,
                  "v125_rawvalue": 10.4,
                  "v136_rawvalue": 0.1363096652,
                  "v147_rawvalue": 77.162581316,
                  "v060_rawvalue": 0.127,
                  "v139_rawvalue": 0.156,
                  "v083_rawvalue": 0.11991125,
                  "v156_rawvalue": 155.09552349,
                  "v153_rawvalue": 0.7329064822,
                  "v166_rawvalue": 0.8056736926,
                  "v051_rawvalue": 55869,
                  "v052_rawvalue": 0.2320607135,
                  "v053_rawvalue": 0.1597307988,
                  "v131_rawvalue": 0.0004116773,
                  "v144_rawvalue": 0.1325295812,
                  "v145_rawvalue": 0.1580923066,
                  "v136_other_data_1": 0.1203259827,
                  "v136_other_data_2": 0.0111612444,
                  "v136_other_data_3": 0.0154357635,
                  "_deepnote_index_column": 2
                },
                {
                  "fipscode": "01003",
                  "state": "AL",
                  "county": "Baldwin",
                  "v011_rawvalue": 0.3,
                  "v049_rawvalue": 0.1873695763,
                  "v085_rawvalue": 0.1316898257,
                  "v004_rawvalue": 0.000701764,
                  "v088_rawvalue": 0.0004927565,
                  "v062_rawvalue": 0.000985513,
                  "v005_rawvalue": 3471,
                  "v023_rawvalue": 0.0272583429,
                  "v125_rawvalue": 7.2,
                  "v136_rawvalue": 0.1299665069,
                  "v147_rawvalue": 78.213404894,
                  "v060_rawvalue": 0.103,
                  "v139_rawvalue": 0.129,
                  "v083_rawvalue": 0.054244266,
                  "v156_rawvalue": 133.60484222,
                  "v153_rawvalue": 0.7524527369,
                  "v166_rawvalue": 0.8181638453,
                  "v051_rawvalue": 223234,
                  "v052_rawvalue": 0.2130231058,
                  "v053_rawvalue": 0.2097798722,
                  "v131_rawvalue": 0.000645063,
                  "v144_rawvalue": 0.1161164107,
                  "v145_rawvalue": 0.1475556542,
                  "v136_other_data_1": 0.1198750748,
                  "v136_other_data_2": 0.0101792868,
                  "v136_other_data_3": 0.0033493137,
                  "_deepnote_index_column": 3
                },
                {
                  "fipscode": "01005",
                  "state": "AL",
                  "county": "Barbour",
                  "v011_rawvalue": 0.412,
                  "v049_rawvalue": 0.1246697372,
                  "v085_rawvalue": 0.1350403367,
                  "v004_rawvalue": 0.0003215305,
                  "v088_rawvalue": 0.0003645791,
                  "v062_rawvalue": 0.0001215264,
                  "v005_rawvalue": 5314,
                  "v023_rawvalue": 0.0379524423,
                  "v125_rawvalue": 9.4,
                  "v136_rawvalue": 0.1371055495,
                  "v147_rawvalue": 74.05474119,
                  "v060_rawvalue": 0.175,
                  "v139_rawvalue": 0.219,
                  "v083_rawvalue": 0.1073966657,
                  "v156_rawvalue": 102.45967278,
                  "v153_rawvalue": 0.608988764,
                  "v166_rawvalue": 0.6052434457,
                  "v051_rawvalue": 24686,
                  "v052_rawvalue": 0.2058656729,
                  "v053_rawvalue": 0.1969132302,
                  "v131_rawvalue": 0.0005671231,
                  "v144_rawvalue": 0.181321046,
                  "v145_rawvalue": 0.1895469464,
                  "v136_other_data_1": 0.1259425999,
                  "v136_other_data_2": 0.0195865071,
                  "v136_other_data_3": 0.0065288357,
                  "_deepnote_index_column": 4
                },
                {
                  "fipscode": "01007",
                  "state": "AL",
                  "county": "Bibb",
                  "v011_rawvalue": 0.374,
                  "v049_rawvalue": 0.1542060328,
                  "v085_rawvalue": 0.1059905065,
                  "v004_rawvalue": 0.0005357143,
                  "v088_rawvalue": 0.0002232741,
                  "v062_rawvalue": 0.0002679289,
                  "v005_rawvalue": 6690,
                  "v023_rawvalue": 0.0306275187,
                  "v125_rawvalue": 10,
                  "v136_rawvalue": 0.0925524223,
                  "v147_rawvalue": 73.408783662,
                  "v060_rawvalue": 0.136,
                  "v139_rawvalue": 0.151,
                  "v083_rawvalue": 0.0260162701,
                  "v156_rawvalue": 26.588748145,
                  "v153_rawvalue": 0.744159048,
                  "v166_rawvalue": 0.69206211,
                  "v051_rawvalue": 22394,
                  "v052_rawvalue": 0.2034920068,
                  "v053_rawvalue": 0.1666964365,
                  "v131_rawvalue": 0.0012056801,
                  "v144_rawvalue": 0.1506592018,
                  "v145_rawvalue": 0.1714179321,
                  "v136_other_data_1": 0.0826373626,
                  "v136_other_data_2": 0.0056399132,
                  "v136_other_data_3": 0.0056399132,
                  "_deepnote_index_column": 5
                },
                {
                  "fipscode": "01009",
                  "state": "AL",
                  "county": "Blount",
                  "v011_rawvalue": 0.33,
                  "v049_rawvalue": 0.158332838,
                  "v085_rawvalue": 0.1411599685,
                  "v004_rawvalue": 0.0002074689,
                  "v088_rawvalue": 0.0001902258,
                  "v062_rawvalue": 0.0001729326,
                  "v005_rawvalue": 4440,
                  "v023_rawvalue": 0.0266866685,
                  "v125_rawvalue": 10.6,
                  "v136_rawvalue": 0.1012566457,
                  "v147_rawvalue": 74.370873779,
                  "v060_rawvalue": 0.146,
                  "v139_rawvalue": 0.136,
                  "v083_rawvalue": 0.0288014982,
                  "v156_rawvalue": 43.309561964,
                  "v153_rawvalue": 0.7877872116,
                  "v166_rawvalue": 0.7300810668,
                  "v051_rawvalue": 57826,
                  "v052_rawvalue": 0.2292221492,
                  "v053_rawvalue": 0.1870093038,
                  "v131_rawvalue": 0.0002421056,
                  "v144_rawvalue": 0.1481247144,
                  "v145_rawvalue": 0.1712957021,
                  "v136_other_data_1": 0.0746885899,
                  "v136_other_data_2": 0.0181246979,
                  "v136_other_data_3": 0.0115998067,
                  "_deepnote_index_column": 6
                }
              ]
            },
            "text/plain": "  fipscode state   county  v011_rawvalue  v049_rawvalue  v085_rawvalue  \\\n2    01001    AL  Autauga          0.330       0.144739       0.100473   \n3    01003    AL  Baldwin          0.300       0.187370       0.131690   \n4    01005    AL  Barbour          0.412       0.124670       0.135040   \n5    01007    AL     Bibb          0.374       0.154206       0.105991   \n6    01009    AL   Blount          0.330       0.158333       0.141160   \n\n   v004_rawvalue  v088_rawvalue  v062_rawvalue  v005_rawvalue  ...  \\\n2       0.000468       0.000340       0.000286         6650.0  ...   \n3       0.000702       0.000493       0.000986         3471.0  ...   \n4       0.000322       0.000365       0.000122         5314.0  ...   \n5       0.000536       0.000223       0.000268         6690.0  ...   \n6       0.000207       0.000190       0.000173         4440.0  ...   \n\n   v166_rawvalue  v051_rawvalue  v052_rawvalue  v053_rawvalue  v131_rawvalue  \\\n2       0.805674          55869       0.232061       0.159731       0.000412   \n3       0.818164         223234       0.213023       0.209780       0.000645   \n4       0.605243          24686       0.205866       0.196913       0.000567   \n5       0.692062          22394       0.203492       0.166696       0.001206   \n6       0.730081          57826       0.229222       0.187009       0.000242   \n\n   v144_rawvalue  v145_rawvalue  v136_other_data_1  v136_other_data_2  \\\n2       0.132530       0.158092           0.120326           0.011161   \n3       0.116116       0.147556           0.119875           0.010179   \n4       0.181321       0.189547           0.125943           0.019587   \n5       0.150659       0.171418           0.082637           0.005640   \n6       0.148125       0.171296           0.074689           0.018125   \n\n   v136_other_data_3  \n2           0.015436  \n3           0.003349  \n4           0.006529  \n5           0.005640  \n6           0.011600  \n\n[5 rows x 29 columns]",
            "text/html": "<div>\n<style scoped>\n    .dataframe tbody tr th:only-of-type {\n        vertical-align: middle;\n    }\n\n    .dataframe tbody tr th {\n        vertical-align: top;\n    }\n\n    .dataframe thead th {\n        text-align: right;\n    }\n</style>\n<table border=\"1\" class=\"dataframe\">\n  <thead>\n    <tr style=\"text-align: right;\">\n      <th></th>\n      <th>fipscode</th>\n      <th>state</th>\n      <th>county</th>\n      <th>v011_rawvalue</th>\n      <th>v049_rawvalue</th>\n      <th>v085_rawvalue</th>\n      <th>v004_rawvalue</th>\n      <th>v088_rawvalue</th>\n      <th>v062_rawvalue</th>\n      <th>v005_rawvalue</th>\n      <th>...</th>\n      <th>v166_rawvalue</th>\n      <th>v051_rawvalue</th>\n      <th>v052_rawvalue</th>\n      <th>v053_rawvalue</th>\n      <th>v131_rawvalue</th>\n      <th>v144_rawvalue</th>\n      <th>v145_rawvalue</th>\n      <th>v136_other_data_1</th>\n      <th>v136_other_data_2</th>\n      <th>v136_other_data_3</th>\n    </tr>\n  </thead>\n  <tbody>\n    <tr>\n      <th>2</th>\n      <td>01001</td>\n      <td>AL</td>\n      <td>Autauga</td>\n      <td>0.330</td>\n      <td>0.144739</td>\n      <td>0.100473</td>\n      <td>0.000468</td>\n      <td>0.000340</td>\n      <td>0.000286</td>\n      <td>6650.0</td>\n      <td>...</td>\n      <td>0.805674</td>\n      <td>55869</td>\n      <td>0.232061</td>\n      <td>0.159731</td>\n      <td>0.000412</td>\n      <td>0.132530</td>\n      <td>0.158092</td>\n      <td>0.120326</td>\n      <td>0.011161</td>\n      <td>0.015436</td>\n    </tr>\n    <tr>\n      <th>3</th>\n      <td>01003</td>\n      <td>AL</td>\n      <td>Baldwin</td>\n      <td>0.300</td>\n      <td>0.187370</td>\n      <td>0.131690</td>\n      <td>0.000702</td>\n      <td>0.000493</td>\n      <td>0.000986</td>\n      <td>3471.0</td>\n      <td>...</td>\n      <td>0.818164</td>\n      <td>223234</td>\n      <td>0.213023</td>\n      <td>0.209780</td>\n      <td>0.000645</td>\n      <td>0.116116</td>\n      <td>0.147556</td>\n      <td>0.119875</td>\n      <td>0.010179</td>\n      <td>0.003349</td>\n    </tr>\n    <tr>\n      <th>4</th>\n      <td>01005</td>\n      <td>AL</td>\n      <td>Barbour</td>\n      <td>0.412</td>\n      <td>0.124670</td>\n      <td>0.135040</td>\n      <td>0.000322</td>\n      <td>0.000365</td>\n      <td>0.000122</td>\n      <td>5314.0</td>\n      <td>...</td>\n      <td>0.605243</td>\n      <td>24686</td>\n      <td>0.205866</td>\n      <td>0.196913</td>\n      <td>0.000567</td>\n      <td>0.181321</td>\n      <td>0.189547</td>\n      <td>0.125943</td>\n      <td>0.019587</td>\n      <td>0.006529</td>\n    </tr>\n    <tr>\n      <th>5</th>\n      <td>01007</td>\n      <td>AL</td>\n      <td>Bibb</td>\n      <td>0.374</td>\n      <td>0.154206</td>\n      <td>0.105991</td>\n      <td>0.000536</td>\n      <td>0.000223</td>\n      <td>0.000268</td>\n      <td>6690.0</td>\n      <td>...</td>\n      <td>0.692062</td>\n      <td>22394</td>\n      <td>0.203492</td>\n      <td>0.166696</td>\n      <td>0.001206</td>\n      <td>0.150659</td>\n      <td>0.171418</td>\n      <td>0.082637</td>\n      <td>0.005640</td>\n      <td>0.005640</td>\n    </tr>\n    <tr>\n      <th>6</th>\n      <td>01009</td>\n      <td>AL</td>\n      <td>Blount</td>\n      <td>0.330</td>\n      <td>0.158333</td>\n      <td>0.141160</td>\n      <td>0.000207</td>\n      <td>0.000190</td>\n      <td>0.000173</td>\n      <td>4440.0</td>\n      <td>...</td>\n      <td>0.730081</td>\n      <td>57826</td>\n      <td>0.229222</td>\n      <td>0.187009</td>\n      <td>0.000242</td>\n      <td>0.148125</td>\n      <td>0.171296</td>\n      <td>0.074689</td>\n      <td>0.018125</td>\n      <td>0.011600</td>\n    </tr>\n  </tbody>\n</table>\n<p>5 rows × 29 columns</p>\n</div>"
          },
          "metadata": {}
        }
      ],
      "execution_count": null,
      "block_group": "d8a858ef40414966baa77d9fdebe78d0"
    },
    {
      "cell_type": "markdown",
      "source": "## 2. Read main dataset 2 (County Business Patterns) and add industry categories",
      "metadata": {
        "is_collapsed": false,
        "formattedRanges": [],
        "cell_id": "edd27041b03e4394a52aee404d9492a6",
        "deepnote_cell_type": "text-cell-h2"
      },
      "block_group": "6c4de7c9546b4ed782bb601e85a5e64e"
    },
    {
      "cell_type": "code",
      "source": "# Read in county business patterns (CBP) dataset (dataset 2)\nds2_cbp = pd.read_csv('DS2_CBP_cbp21co.txt', sep=',', \n                      dtype = {'fipstate': 'str', 'fipscty': 'str'})\n# Output a subset of data for submission\nds2_cbp.head(100).to_csv('Subset_ds2_cbp.csv')\nprint(f'Original shape for CBP (dataset 2): {ds2_cbp.shape}')\n# Combine state and county FIPS codes to get 5-digit code, for merging with other datasets\nds2_cbp['fipscode'] = ds2_cbp['fipstate'] + ds2_cbp['fipscty']\n# Drop state and county FIPS codes - will only use 5-digit FIPS code (fipscode)\nds2_cbp.drop(columns=['fipstate', 'fipscty'], inplace=True)\n# Move fipscode to the front\ncolumn_to_move = ds2_cbp.pop('fipscode')\nds2_cbp.insert(0, 'fipscode', column_to_move)\n\ndel(column_to_move)\nprint(f'Original shape for CBP (dataset 2): {ds2_cbp.shape}')\nds2_cbp.head()",
      "metadata": {
        "source_hash": null,
        "execution_start": 1697404676883,
        "execution_millis": 3032,
        "deepnote_to_be_reexecuted": false,
        "cell_id": "792dc055ab0040d4998570e8e77177d0",
        "deepnote_cell_type": "code"
      },
      "outputs": [
        {
          "name": "stdout",
          "text": "Original shape for CBP (dataset 2): (1090164, 23)\nOriginal shape for CBP (dataset 2): (1090164, 22)\n",
          "output_type": "stream"
        },
        {
          "output_type": "execute_result",
          "execution_count": 3,
          "data": {
            "application/vnd.deepnote.dataframe.v3+json": {
              "column_count": 22,
              "row_count": 5,
              "columns": [
                {
                  "name": "fipscode",
                  "dtype": "object",
                  "stats": {
                    "unique_count": 1,
                    "nan_count": 0,
                    "categories": [
                      {
                        "name": "01001",
                        "count": 5
                      }
                    ]
                  }
                },
                {
                  "name": "naics",
                  "dtype": "object",
                  "stats": {
                    "unique_count": 5,
                    "nan_count": 0,
                    "categories": [
                      {
                        "name": "------",
                        "count": 1
                      },
                      {
                        "name": "11----",
                        "count": 1
                      },
                      {
                        "name": "3 others",
                        "count": 3
                      }
                    ]
                  }
                },
                {
                  "name": "emp_nf",
                  "dtype": "object",
                  "stats": {
                    "unique_count": 1,
                    "nan_count": 0,
                    "categories": [
                      {
                        "name": "G",
                        "count": 5
                      }
                    ]
                  }
                },
                {
                  "name": "emp",
                  "dtype": "int64",
                  "stats": {
                    "unique_count": 3,
                    "nan_count": 0,
                    "min": "68",
                    "max": "11216",
                    "histogram": [
                      {
                        "bin_start": 68,
                        "bin_end": 1182.8,
                        "count": 4
                      },
                      {
                        "bin_start": 1182.8,
                        "bin_end": 2297.6,
                        "count": 0
                      },
                      {
                        "bin_start": 2297.6,
                        "bin_end": 3412.3999999999996,
                        "count": 0
                      },
                      {
                        "bin_start": 3412.3999999999996,
                        "bin_end": 4527.2,
                        "count": 0
                      },
                      {
                        "bin_start": 4527.2,
                        "bin_end": 5642,
                        "count": 0
                      },
                      {
                        "bin_start": 5642,
                        "bin_end": 6756.799999999999,
                        "count": 0
                      },
                      {
                        "bin_start": 6756.799999999999,
                        "bin_end": 7871.599999999999,
                        "count": 0
                      },
                      {
                        "bin_start": 7871.599999999999,
                        "bin_end": 8986.4,
                        "count": 0
                      },
                      {
                        "bin_start": 8986.4,
                        "bin_end": 10101.199999999999,
                        "count": 0
                      },
                      {
                        "bin_start": 10101.199999999999,
                        "bin_end": 11216,
                        "count": 1
                      }
                    ]
                  }
                },
                {
                  "name": "qp1_nf",
                  "dtype": "object",
                  "stats": {
                    "unique_count": 1,
                    "nan_count": 0,
                    "categories": [
                      {
                        "name": "G",
                        "count": 5
                      }
                    ]
                  }
                },
                {
                  "name": "qp1",
                  "dtype": "int64",
                  "stats": {
                    "unique_count": 3,
                    "nan_count": 0,
                    "min": "1213",
                    "max": "97944",
                    "histogram": [
                      {
                        "bin_start": 1213,
                        "bin_end": 10886.1,
                        "count": 4
                      },
                      {
                        "bin_start": 10886.1,
                        "bin_end": 20559.2,
                        "count": 0
                      },
                      {
                        "bin_start": 20559.2,
                        "bin_end": 30232.300000000003,
                        "count": 0
                      },
                      {
                        "bin_start": 30232.300000000003,
                        "bin_end": 39905.4,
                        "count": 0
                      },
                      {
                        "bin_start": 39905.4,
                        "bin_end": 49578.5,
                        "count": 0
                      },
                      {
                        "bin_start": 49578.5,
                        "bin_end": 59251.600000000006,
                        "count": 0
                      },
                      {
                        "bin_start": 59251.600000000006,
                        "bin_end": 68924.7,
                        "count": 0
                      },
                      {
                        "bin_start": 68924.7,
                        "bin_end": 78597.8,
                        "count": 0
                      },
                      {
                        "bin_start": 78597.8,
                        "bin_end": 88270.90000000001,
                        "count": 0
                      },
                      {
                        "bin_start": 88270.90000000001,
                        "bin_end": 97944,
                        "count": 1
                      }
                    ]
                  }
                },
                {
                  "name": "ap_nf",
                  "dtype": "object",
                  "stats": {
                    "unique_count": 1,
                    "nan_count": 0,
                    "categories": [
                      {
                        "name": "G",
                        "count": 5
                      }
                    ]
                  }
                },
                {
                  "name": "ap",
                  "dtype": "int64",
                  "stats": {
                    "unique_count": 3,
                    "nan_count": 0,
                    "min": "4563",
                    "max": "424826",
                    "histogram": [
                      {
                        "bin_start": 4563,
                        "bin_end": 46589.3,
                        "count": 4
                      },
                      {
                        "bin_start": 46589.3,
                        "bin_end": 88615.6,
                        "count": 0
                      },
                      {
                        "bin_start": 88615.6,
                        "bin_end": 130641.90000000001,
                        "count": 0
                      },
                      {
                        "bin_start": 130641.90000000001,
                        "bin_end": 172668.2,
                        "count": 0
                      },
                      {
                        "bin_start": 172668.2,
                        "bin_end": 214694.5,
                        "count": 0
                      },
                      {
                        "bin_start": 214694.5,
                        "bin_end": 256720.80000000002,
                        "count": 0
                      },
                      {
                        "bin_start": 256720.80000000002,
                        "bin_end": 298747.10000000003,
                        "count": 0
                      },
                      {
                        "bin_start": 298747.10000000003,
                        "bin_end": 340773.4,
                        "count": 0
                      },
                      {
                        "bin_start": 340773.4,
                        "bin_end": 382799.7,
                        "count": 0
                      },
                      {
                        "bin_start": 382799.7,
                        "bin_end": 424826,
                        "count": 1
                      }
                    ]
                  }
                },
                {
                  "name": "est",
                  "dtype": "int64",
                  "stats": {
                    "unique_count": 3,
                    "nan_count": 0,
                    "min": "7",
                    "max": "924",
                    "histogram": [
                      {
                        "bin_start": 7,
                        "bin_end": 98.7,
                        "count": 4
                      },
                      {
                        "bin_start": 98.7,
                        "bin_end": 190.4,
                        "count": 0
                      },
                      {
                        "bin_start": 190.4,
                        "bin_end": 282.1,
                        "count": 0
                      },
                      {
                        "bin_start": 282.1,
                        "bin_end": 373.8,
                        "count": 0
                      },
                      {
                        "bin_start": 373.8,
                        "bin_end": 465.5,
                        "count": 0
                      },
                      {
                        "bin_start": 465.5,
                        "bin_end": 557.2,
                        "count": 0
                      },
                      {
                        "bin_start": 557.2,
                        "bin_end": 648.9,
                        "count": 0
                      },
                      {
                        "bin_start": 648.9,
                        "bin_end": 740.6,
                        "count": 0
                      },
                      {
                        "bin_start": 740.6,
                        "bin_end": 832.3000000000001,
                        "count": 0
                      },
                      {
                        "bin_start": 832.3000000000001,
                        "bin_end": 924,
                        "count": 1
                      }
                    ]
                  }
                },
                {
                  "name": "n<5",
                  "dtype": "object",
                  "stats": {
                    "unique_count": 3,
                    "nan_count": 0,
                    "categories": [
                      {
                        "name": "6",
                        "count": 3
                      },
                      {
                        "name": "442",
                        "count": 1
                      },
                      {
                        "name": "9",
                        "count": 1
                      }
                    ]
                  }
                },
                {
                  "name": "n5_9",
                  "dtype": "object",
                  "stats": {
                    "unique_count": 2,
                    "nan_count": 0,
                    "categories": [
                      {
                        "name": "N",
                        "count": 4
                      },
                      {
                        "name": "222",
                        "count": 1
                      }
                    ]
                  }
                },
                {
                  "name": "n10_19",
                  "dtype": "object",
                  "stats": {
                    "unique_count": 2,
                    "nan_count": 0,
                    "categories": [
                      {
                        "name": "N",
                        "count": 4
                      },
                      {
                        "name": "118",
                        "count": 1
                      }
                    ]
                  }
                },
                {
                  "name": "n20_49",
                  "dtype": "object",
                  "stats": {
                    "unique_count": 2,
                    "nan_count": 0,
                    "categories": [
                      {
                        "name": "N",
                        "count": 4
                      },
                      {
                        "name": "100",
                        "count": 1
                      }
                    ]
                  }
                },
                {
                  "name": "n50_99",
                  "dtype": "object",
                  "stats": {
                    "unique_count": 2,
                    "nan_count": 0,
                    "categories": [
                      {
                        "name": "N",
                        "count": 4
                      },
                      {
                        "name": "31",
                        "count": 1
                      }
                    ]
                  }
                },
                {
                  "name": "n100_249",
                  "dtype": "object",
                  "stats": {
                    "unique_count": 2,
                    "nan_count": 0,
                    "categories": [
                      {
                        "name": "N",
                        "count": 4
                      },
                      {
                        "name": "8",
                        "count": 1
                      }
                    ]
                  }
                },
                {
                  "name": "n250_499",
                  "dtype": "object",
                  "stats": {
                    "unique_count": 1,
                    "nan_count": 0,
                    "categories": [
                      {
                        "name": "N",
                        "count": 5
                      }
                    ]
                  }
                },
                {
                  "name": "n500_999",
                  "dtype": "object",
                  "stats": {
                    "unique_count": 1,
                    "nan_count": 0,
                    "categories": [
                      {
                        "name": "N",
                        "count": 5
                      }
                    ]
                  }
                },
                {
                  "name": "n1000",
                  "dtype": "object",
                  "stats": {
                    "unique_count": 1,
                    "nan_count": 0,
                    "categories": [
                      {
                        "name": "N",
                        "count": 5
                      }
                    ]
                  }
                },
                {
                  "name": "n1000_1",
                  "dtype": "object",
                  "stats": {
                    "unique_count": 1,
                    "nan_count": 0,
                    "categories": [
                      {
                        "name": "N",
                        "count": 5
                      }
                    ]
                  }
                },
                {
                  "name": "n1000_2",
                  "dtype": "object",
                  "stats": {
                    "unique_count": 1,
                    "nan_count": 0,
                    "categories": [
                      {
                        "name": "N",
                        "count": 5
                      }
                    ]
                  }
                },
                {
                  "name": "n1000_3",
                  "dtype": "object",
                  "stats": {
                    "unique_count": 1,
                    "nan_count": 0,
                    "categories": [
                      {
                        "name": "N",
                        "count": 5
                      }
                    ]
                  }
                },
                {
                  "name": "n1000_4",
                  "dtype": "object",
                  "stats": {
                    "unique_count": 1,
                    "nan_count": 0,
                    "categories": [
                      {
                        "name": "N",
                        "count": 5
                      }
                    ]
                  }
                },
                {
                  "name": "_deepnote_index_column",
                  "dtype": "int64"
                }
              ],
              "rows": [
                {
                  "fipscode": "01001",
                  "naics": "------",
                  "emp_nf": "G",
                  "emp": 11216,
                  "qp1_nf": "G",
                  "qp1": 97944,
                  "ap_nf": "G",
                  "ap": 424826,
                  "est": 924,
                  "n<5": "442",
                  "n5_9": "222",
                  "n10_19": "118",
                  "n20_49": "100",
                  "n50_99": "31",
                  "n100_249": "8",
                  "n250_499": "N",
                  "n500_999": "N",
                  "n1000": "N",
                  "n1000_1": "N",
                  "n1000_2": "N",
                  "n1000_3": "N",
                  "n1000_4": "N",
                  "_deepnote_index_column": 0
                },
                {
                  "fipscode": "01001",
                  "naics": "11----",
                  "emp_nf": "G",
                  "emp": 78,
                  "qp1_nf": "G",
                  "qp1": 1325,
                  "ap_nf": "G",
                  "ap": 5107,
                  "est": 10,
                  "n<5": "9",
                  "n5_9": "N",
                  "n10_19": "N",
                  "n20_49": "N",
                  "n50_99": "N",
                  "n100_249": "N",
                  "n250_499": "N",
                  "n500_999": "N",
                  "n1000": "N",
                  "n1000_1": "N",
                  "n1000_2": "N",
                  "n1000_3": "N",
                  "n1000_4": "N",
                  "_deepnote_index_column": 1
                },
                {
                  "fipscode": "01001",
                  "naics": "113///",
                  "emp_nf": "G",
                  "emp": 68,
                  "qp1_nf": "G",
                  "qp1": 1213,
                  "ap_nf": "G",
                  "ap": 4563,
                  "est": 7,
                  "n<5": "6",
                  "n5_9": "N",
                  "n10_19": "N",
                  "n20_49": "N",
                  "n50_99": "N",
                  "n100_249": "N",
                  "n250_499": "N",
                  "n500_999": "N",
                  "n1000": "N",
                  "n1000_1": "N",
                  "n1000_2": "N",
                  "n1000_3": "N",
                  "n1000_4": "N",
                  "_deepnote_index_column": 2
                },
                {
                  "fipscode": "01001",
                  "naics": "1133//",
                  "emp_nf": "G",
                  "emp": 68,
                  "qp1_nf": "G",
                  "qp1": 1213,
                  "ap_nf": "G",
                  "ap": 4563,
                  "est": 7,
                  "n<5": "6",
                  "n5_9": "N",
                  "n10_19": "N",
                  "n20_49": "N",
                  "n50_99": "N",
                  "n100_249": "N",
                  "n250_499": "N",
                  "n500_999": "N",
                  "n1000": "N",
                  "n1000_1": "N",
                  "n1000_2": "N",
                  "n1000_3": "N",
                  "n1000_4": "N",
                  "_deepnote_index_column": 3
                },
                {
                  "fipscode": "01001",
                  "naics": "11331/",
                  "emp_nf": "G",
                  "emp": 68,
                  "qp1_nf": "G",
                  "qp1": 1213,
                  "ap_nf": "G",
                  "ap": 4563,
                  "est": 7,
                  "n<5": "6",
                  "n5_9": "N",
                  "n10_19": "N",
                  "n20_49": "N",
                  "n50_99": "N",
                  "n100_249": "N",
                  "n250_499": "N",
                  "n500_999": "N",
                  "n1000": "N",
                  "n1000_1": "N",
                  "n1000_2": "N",
                  "n1000_3": "N",
                  "n1000_4": "N",
                  "_deepnote_index_column": 4
                }
              ]
            },
            "text/plain": "  fipscode   naics emp_nf    emp qp1_nf    qp1 ap_nf      ap  est  n<5  ...  \\\n0    01001  ------      G  11216      G  97944     G  424826  924  442  ...   \n1    01001  11----      G     78      G   1325     G    5107   10    9  ...   \n2    01001  113///      G     68      G   1213     G    4563    7    6  ...   \n3    01001  1133//      G     68      G   1213     G    4563    7    6  ...   \n4    01001  11331/      G     68      G   1213     G    4563    7    6  ...   \n\n  n20_49 n50_99 n100_249 n250_499 n500_999 n1000 n1000_1 n1000_2 n1000_3  \\\n0    100     31        8        N        N     N       N       N       N   \n1      N      N        N        N        N     N       N       N       N   \n2      N      N        N        N        N     N       N       N       N   \n3      N      N        N        N        N     N       N       N       N   \n4      N      N        N        N        N     N       N       N       N   \n\n  n1000_4  \n0       N  \n1       N  \n2       N  \n3       N  \n4       N  \n\n[5 rows x 22 columns]",
            "text/html": "<div>\n<style scoped>\n    .dataframe tbody tr th:only-of-type {\n        vertical-align: middle;\n    }\n\n    .dataframe tbody tr th {\n        vertical-align: top;\n    }\n\n    .dataframe thead th {\n        text-align: right;\n    }\n</style>\n<table border=\"1\" class=\"dataframe\">\n  <thead>\n    <tr style=\"text-align: right;\">\n      <th></th>\n      <th>fipscode</th>\n      <th>naics</th>\n      <th>emp_nf</th>\n      <th>emp</th>\n      <th>qp1_nf</th>\n      <th>qp1</th>\n      <th>ap_nf</th>\n      <th>ap</th>\n      <th>est</th>\n      <th>n&lt;5</th>\n      <th>...</th>\n      <th>n20_49</th>\n      <th>n50_99</th>\n      <th>n100_249</th>\n      <th>n250_499</th>\n      <th>n500_999</th>\n      <th>n1000</th>\n      <th>n1000_1</th>\n      <th>n1000_2</th>\n      <th>n1000_3</th>\n      <th>n1000_4</th>\n    </tr>\n  </thead>\n  <tbody>\n    <tr>\n      <th>0</th>\n      <td>01001</td>\n      <td>------</td>\n      <td>G</td>\n      <td>11216</td>\n      <td>G</td>\n      <td>97944</td>\n      <td>G</td>\n      <td>424826</td>\n      <td>924</td>\n      <td>442</td>\n      <td>...</td>\n      <td>100</td>\n      <td>31</td>\n      <td>8</td>\n      <td>N</td>\n      <td>N</td>\n      <td>N</td>\n      <td>N</td>\n      <td>N</td>\n      <td>N</td>\n      <td>N</td>\n    </tr>\n    <tr>\n      <th>1</th>\n      <td>01001</td>\n      <td>11----</td>\n      <td>G</td>\n      <td>78</td>\n      <td>G</td>\n      <td>1325</td>\n      <td>G</td>\n      <td>5107</td>\n      <td>10</td>\n      <td>9</td>\n      <td>...</td>\n      <td>N</td>\n      <td>N</td>\n      <td>N</td>\n      <td>N</td>\n      <td>N</td>\n      <td>N</td>\n      <td>N</td>\n      <td>N</td>\n      <td>N</td>\n      <td>N</td>\n    </tr>\n    <tr>\n      <th>2</th>\n      <td>01001</td>\n      <td>113///</td>\n      <td>G</td>\n      <td>68</td>\n      <td>G</td>\n      <td>1213</td>\n      <td>G</td>\n      <td>4563</td>\n      <td>7</td>\n      <td>6</td>\n      <td>...</td>\n      <td>N</td>\n      <td>N</td>\n      <td>N</td>\n      <td>N</td>\n      <td>N</td>\n      <td>N</td>\n      <td>N</td>\n      <td>N</td>\n      <td>N</td>\n      <td>N</td>\n    </tr>\n    <tr>\n      <th>3</th>\n      <td>01001</td>\n      <td>1133//</td>\n      <td>G</td>\n      <td>68</td>\n      <td>G</td>\n      <td>1213</td>\n      <td>G</td>\n      <td>4563</td>\n      <td>7</td>\n      <td>6</td>\n      <td>...</td>\n      <td>N</td>\n      <td>N</td>\n      <td>N</td>\n      <td>N</td>\n      <td>N</td>\n      <td>N</td>\n      <td>N</td>\n      <td>N</td>\n      <td>N</td>\n      <td>N</td>\n    </tr>\n    <tr>\n      <th>4</th>\n      <td>01001</td>\n      <td>11331/</td>\n      <td>G</td>\n      <td>68</td>\n      <td>G</td>\n      <td>1213</td>\n      <td>G</td>\n      <td>4563</td>\n      <td>7</td>\n      <td>6</td>\n      <td>...</td>\n      <td>N</td>\n      <td>N</td>\n      <td>N</td>\n      <td>N</td>\n      <td>N</td>\n      <td>N</td>\n      <td>N</td>\n      <td>N</td>\n      <td>N</td>\n      <td>N</td>\n    </tr>\n  </tbody>\n</table>\n<p>5 rows × 22 columns</p>\n</div>"
          },
          "metadata": {}
        }
      ],
      "execution_count": null,
      "block_group": "5c86ef1d0fbb494586dfed7b9fbac5b3"
    },
    {
      "cell_type": "markdown",
      "source": "## 3. Read dataset 3 (NAICS) with industry categories",
      "metadata": {
        "is_collapsed": false,
        "formattedRanges": [],
        "cell_id": "cac65f40fd0446c6b8f5ac975ef09cce",
        "deepnote_cell_type": "text-cell-h2"
      },
      "block_group": "b85f8638457842fcbe67818ad2d988dd"
    },
    {
      "cell_type": "markdown",
      "source": "Although several levels of industry categories are included, we chose to keep the highest level categories, to limit the number of industries we have to compare between counties.",
      "metadata": {
        "formattedRanges": [],
        "cell_id": "35acae00411a4b8dbcb24923fb775bae",
        "deepnote_cell_type": "text-cell-p"
      },
      "block_group": "22a6bdce1b4c4735abf1f41b0053f129"
    },
    {
      "cell_type": "code",
      "source": "# Read in NAICS to Industry file (dataset 3) - contains industry descriptions\nds3_naics_to_ind = pd.read_csv('DS3_naics2017.txt', sep=',', encoding='latin1') \nprint(f'Original shape for NAICS (dataset 3): {ds3_naics_to_ind.shape}')\n# Set column names to lowercase to match CBP (dataset 2), for merging\nds3_naics_to_ind.columns = ds3_naics_to_ind.columns.str.lower()\n# Rename 'description' to something more descriptive\nds3_naics_to_ind = ds3_naics_to_ind.rename(columns={'description': 'Industry Description'})\n\n# Filter NAICS data - only keep highest level codes (2 digits followed by 4 hyphens)\npattern = r'([0-9]+)(?=----)'\nds3_naics_to_ind = ds3_naics_to_ind[ds3_naics_to_ind['naics'].str.match(pattern)]\n\nprint(f'Final shape for NAICS (dataset 3): {ds3_naics_to_ind.shape}')\nds3_naics_to_ind.head()",
      "metadata": {
        "source_hash": null,
        "execution_start": 1697404679777,
        "execution_millis": 218,
        "deepnote_to_be_reexecuted": false,
        "cell_id": "6cde4ac807ab43fa88c92ffe7cdd85c8",
        "deepnote_cell_type": "code"
      },
      "outputs": [
        {
          "name": "stdout",
          "text": "Original shape for NAICS (dataset 3): (2003, 2)\nFinal shape for NAICS (dataset 3): (20, 2)\n",
          "output_type": "stream"
        },
        {
          "output_type": "execute_result",
          "execution_count": 4,
          "data": {
            "application/vnd.deepnote.dataframe.v3+json": {
              "column_count": 2,
              "row_count": 5,
              "columns": [
                {
                  "name": "naics",
                  "dtype": "object",
                  "stats": {
                    "unique_count": 5,
                    "nan_count": 0,
                    "categories": [
                      {
                        "name": "11----",
                        "count": 1
                      },
                      {
                        "name": "21----",
                        "count": 1
                      },
                      {
                        "name": "3 others",
                        "count": 3
                      }
                    ]
                  }
                },
                {
                  "name": "Industry Description",
                  "dtype": "object",
                  "stats": {
                    "unique_count": 5,
                    "nan_count": 0,
                    "categories": [
                      {
                        "name": "Agriculture, Forestry, Fishing and Hunting",
                        "count": 1
                      },
                      {
                        "name": "Mining, Quarrying, and Oil and Gas Extraction",
                        "count": 1
                      },
                      {
                        "name": "3 others",
                        "count": 3
                      }
                    ]
                  }
                },
                {
                  "name": "_deepnote_index_column",
                  "dtype": "int64"
                }
              ],
              "rows": [
                {
                  "naics": "11----",
                  "Industry Description": "Agriculture, Forestry, Fishing and Hunting",
                  "_deepnote_index_column": 1
                },
                {
                  "naics": "21----",
                  "Industry Description": "Mining, Quarrying, and Oil and Gas Extraction",
                  "_deepnote_index_column": 36
                },
                {
                  "naics": "22----",
                  "Industry Description": "Utilities",
                  "_deepnote_index_column": 84
                },
                {
                  "naics": "23----",
                  "Industry Description": "Construction",
                  "_deepnote_index_column": 109
                },
                {
                  "naics": "31----",
                  "Industry Description": "Manufacturing",
                  "_deepnote_index_column": 182
                }
              ]
            },
            "text/plain": "      naics                           Industry Description\n1    11----     Agriculture, Forestry, Fishing and Hunting\n36   21----  Mining, Quarrying, and Oil and Gas Extraction\n84   22----                                      Utilities\n109  23----                                   Construction\n182  31----                                  Manufacturing",
            "text/html": "<div>\n<style scoped>\n    .dataframe tbody tr th:only-of-type {\n        vertical-align: middle;\n    }\n\n    .dataframe tbody tr th {\n        vertical-align: top;\n    }\n\n    .dataframe thead th {\n        text-align: right;\n    }\n</style>\n<table border=\"1\" class=\"dataframe\">\n  <thead>\n    <tr style=\"text-align: right;\">\n      <th></th>\n      <th>naics</th>\n      <th>Industry Description</th>\n    </tr>\n  </thead>\n  <tbody>\n    <tr>\n      <th>1</th>\n      <td>11----</td>\n      <td>Agriculture, Forestry, Fishing and Hunting</td>\n    </tr>\n    <tr>\n      <th>36</th>\n      <td>21----</td>\n      <td>Mining, Quarrying, and Oil and Gas Extraction</td>\n    </tr>\n    <tr>\n      <th>84</th>\n      <td>22----</td>\n      <td>Utilities</td>\n    </tr>\n    <tr>\n      <th>109</th>\n      <td>23----</td>\n      <td>Construction</td>\n    </tr>\n    <tr>\n      <th>182</th>\n      <td>31----</td>\n      <td>Manufacturing</td>\n    </tr>\n  </tbody>\n</table>\n</div>"
          },
          "metadata": {}
        }
      ],
      "execution_count": null,
      "block_group": "11df0c5b62614726ac6c84f2cfc2ffe2"
    },
    {
      "cell_type": "markdown",
      "source": "## 4. Merge all datasets",
      "metadata": {
        "is_collapsed": false,
        "formattedRanges": [],
        "cell_id": "55f7be6e65dc430897c3fd1be4ba7b1f",
        "deepnote_cell_type": "text-cell-h2"
      },
      "block_group": "9cbea8b7572c446da8115f6c09ae7d64"
    },
    {
      "cell_type": "code",
      "source": "# Merge dataset 3 (NAICS to Industry) with dataset 2 (County Business Patterns) on NAICS codes\nmerged_ds2and3_cbp_ind = pd.merge(ds3_naics_to_ind, ds2_cbp, on='naics')\n\n# Merge with merged CHR (dataset 1) on FIPS codes\nmerged_ds1_2_chr_cbr_allcounties = pd.merge(merged_ds2and3_cbp_ind, \n                                            ds1_chr_metrics, on = 'fipscode')\n\n# Rearrange columns, so identifying columns are in front (FIPS, state, county)\ncolnames_to_move = ['fipscode', 'state', 'county']\ncols_to_move = merged_ds1_2_chr_cbr_allcounties[colnames_to_move]\nmerged_ds1_2_chr_cbr_allcounties.drop(columns=colnames_to_move, inplace=True)\nmerged_ds1_2_chr_cbr_allcounties = pd.merge(cols_to_move, \n                                            merged_ds1_2_chr_cbr_allcounties, \n                                            left_index=True, right_index=True)\n\ndel(colnames_to_move, cols_to_move)\n\n# Save dataframe in CSV for use in following notebooks\nmerged_ds1_2_chr_cbr_allcounties.to_csv('_merged_ds1_2_chr_cbr_allcounties.csv')\n\nprint(f'Final shape of merged dataset: {merged_ds1_2_chr_cbr_allcounties.shape}')\nmerged_ds1_2_chr_cbr_allcounties.head()",
      "metadata": {
        "source_hash": null,
        "execution_start": 1697404679826,
        "execution_millis": 2608,
        "deepnote_to_be_reexecuted": false,
        "cell_id": "95ff4c6e91b44c53805bf027efa0e4f3",
        "deepnote_cell_type": "code"
      },
      "outputs": [
        {
          "name": "stdout",
          "text": "Final shape of merged dataset: (47560, 51)\n",
          "output_type": "stream"
        },
        {
          "output_type": "execute_result",
          "execution_count": 5,
          "data": {
            "application/vnd.deepnote.dataframe.v3+json": {
              "column_count": 51,
              "row_count": 5,
              "columns": [
                {
                  "name": "fipscode",
                  "dtype": "object",
                  "stats": {
                    "unique_count": 1,
                    "nan_count": 0,
                    "categories": [
                      {
                        "name": "01001",
                        "count": 5
                      }
                    ]
                  }
                },
                {
                  "name": "state",
                  "dtype": "object",
                  "stats": {
                    "unique_count": 1,
                    "nan_count": 0,
                    "categories": [
                      {
                        "name": "AL",
                        "count": 5
                      }
                    ]
                  }
                },
                {
                  "name": "county",
                  "dtype": "object",
                  "stats": {
                    "unique_count": 1,
                    "nan_count": 0,
                    "categories": [
                      {
                        "name": "Autauga",
                        "count": 5
                      }
                    ]
                  }
                },
                {
                  "name": "naics",
                  "dtype": "object",
                  "stats": {
                    "unique_count": 5,
                    "nan_count": 0,
                    "categories": [
                      {
                        "name": "11----",
                        "count": 1
                      },
                      {
                        "name": "21----",
                        "count": 1
                      },
                      {
                        "name": "3 others",
                        "count": 3
                      }
                    ]
                  }
                },
                {
                  "name": "Industry Description",
                  "dtype": "object",
                  "stats": {
                    "unique_count": 5,
                    "nan_count": 0,
                    "categories": [
                      {
                        "name": "Agriculture, Forestry, Fishing and Hunting",
                        "count": 1
                      },
                      {
                        "name": "Mining, Quarrying, and Oil and Gas Extraction",
                        "count": 1
                      },
                      {
                        "name": "3 others",
                        "count": 3
                      }
                    ]
                  }
                },
                {
                  "name": "emp_nf",
                  "dtype": "object",
                  "stats": {
                    "unique_count": 1,
                    "nan_count": 0,
                    "categories": [
                      {
                        "name": "G",
                        "count": 5
                      }
                    ]
                  }
                },
                {
                  "name": "emp",
                  "dtype": "int64",
                  "stats": {
                    "unique_count": 5,
                    "nan_count": 0,
                    "min": "78",
                    "max": "1086",
                    "histogram": [
                      {
                        "bin_start": 78,
                        "bin_end": 178.8,
                        "count": 3
                      },
                      {
                        "bin_start": 178.8,
                        "bin_end": 279.6,
                        "count": 0
                      },
                      {
                        "bin_start": 279.6,
                        "bin_end": 380.4,
                        "count": 0
                      },
                      {
                        "bin_start": 380.4,
                        "bin_end": 481.2,
                        "count": 0
                      },
                      {
                        "bin_start": 481.2,
                        "bin_end": 582,
                        "count": 1
                      },
                      {
                        "bin_start": 582,
                        "bin_end": 682.8,
                        "count": 0
                      },
                      {
                        "bin_start": 682.8,
                        "bin_end": 783.6,
                        "count": 0
                      },
                      {
                        "bin_start": 783.6,
                        "bin_end": 884.4,
                        "count": 0
                      },
                      {
                        "bin_start": 884.4,
                        "bin_end": 985.1999999999999,
                        "count": 0
                      },
                      {
                        "bin_start": 985.1999999999999,
                        "bin_end": 1086,
                        "count": 1
                      }
                    ]
                  }
                },
                {
                  "name": "qp1_nf",
                  "dtype": "object",
                  "stats": {
                    "unique_count": 2,
                    "nan_count": 0,
                    "categories": [
                      {
                        "name": "G",
                        "count": 3
                      },
                      {
                        "name": "H",
                        "count": 2
                      }
                    ]
                  }
                },
                {
                  "name": "qp1",
                  "dtype": "int64",
                  "stats": {
                    "unique_count": 5,
                    "nan_count": 0,
                    "min": "1224",
                    "max": "19475",
                    "histogram": [
                      {
                        "bin_start": 1224,
                        "bin_end": 3049.1,
                        "count": 2
                      },
                      {
                        "bin_start": 3049.1,
                        "bin_end": 4874.2,
                        "count": 1
                      },
                      {
                        "bin_start": 4874.2,
                        "bin_end": 6699.299999999999,
                        "count": 1
                      },
                      {
                        "bin_start": 6699.299999999999,
                        "bin_end": 8524.4,
                        "count": 0
                      },
                      {
                        "bin_start": 8524.4,
                        "bin_end": 10349.5,
                        "count": 0
                      },
                      {
                        "bin_start": 10349.5,
                        "bin_end": 12174.599999999999,
                        "count": 0
                      },
                      {
                        "bin_start": 12174.599999999999,
                        "bin_end": 13999.699999999999,
                        "count": 0
                      },
                      {
                        "bin_start": 13999.699999999999,
                        "bin_end": 15824.8,
                        "count": 0
                      },
                      {
                        "bin_start": 15824.8,
                        "bin_end": 17649.899999999998,
                        "count": 0
                      },
                      {
                        "bin_start": 17649.899999999998,
                        "bin_end": 19475,
                        "count": 1
                      }
                    ]
                  }
                },
                {
                  "name": "ap_nf",
                  "dtype": "object",
                  "stats": {
                    "unique_count": 2,
                    "nan_count": 0,
                    "categories": [
                      {
                        "name": "G",
                        "count": 4
                      },
                      {
                        "name": "H",
                        "count": 1
                      }
                    ]
                  }
                },
                {
                  "name": "ap",
                  "dtype": "int64",
                  "stats": {
                    "unique_count": 5,
                    "nan_count": 0,
                    "min": "5107",
                    "max": "88031",
                    "histogram": [
                      {
                        "bin_start": 5107,
                        "bin_end": 13399.4,
                        "count": 2
                      },
                      {
                        "bin_start": 13399.4,
                        "bin_end": 21691.8,
                        "count": 1
                      },
                      {
                        "bin_start": 21691.8,
                        "bin_end": 29984.199999999997,
                        "count": 1
                      },
                      {
                        "bin_start": 29984.199999999997,
                        "bin_end": 38276.6,
                        "count": 0
                      },
                      {
                        "bin_start": 38276.6,
                        "bin_end": 46569,
                        "count": 0
                      },
                      {
                        "bin_start": 46569,
                        "bin_end": 54861.399999999994,
                        "count": 0
                      },
                      {
                        "bin_start": 54861.399999999994,
                        "bin_end": 63153.799999999996,
                        "count": 0
                      },
                      {
                        "bin_start": 63153.799999999996,
                        "bin_end": 71446.2,
                        "count": 0
                      },
                      {
                        "bin_start": 71446.2,
                        "bin_end": 79738.59999999999,
                        "count": 0
                      },
                      {
                        "bin_start": 79738.59999999999,
                        "bin_end": 88031,
                        "count": 1
                      }
                    ]
                  }
                },
                {
                  "name": "est",
                  "dtype": "int64",
                  "stats": {
                    "unique_count": 5,
                    "nan_count": 0,
                    "min": "5",
                    "max": "90",
                    "histogram": [
                      {
                        "bin_start": 5,
                        "bin_end": 13.5,
                        "count": 3
                      },
                      {
                        "bin_start": 13.5,
                        "bin_end": 22,
                        "count": 0
                      },
                      {
                        "bin_start": 22,
                        "bin_end": 30.5,
                        "count": 1
                      },
                      {
                        "bin_start": 30.5,
                        "bin_end": 39,
                        "count": 0
                      },
                      {
                        "bin_start": 39,
                        "bin_end": 47.5,
                        "count": 0
                      },
                      {
                        "bin_start": 47.5,
                        "bin_end": 56,
                        "count": 0
                      },
                      {
                        "bin_start": 56,
                        "bin_end": 64.5,
                        "count": 0
                      },
                      {
                        "bin_start": 64.5,
                        "bin_end": 73,
                        "count": 0
                      },
                      {
                        "bin_start": 73,
                        "bin_end": 81.5,
                        "count": 0
                      },
                      {
                        "bin_start": 81.5,
                        "bin_end": 90,
                        "count": 1
                      }
                    ]
                  }
                },
                {
                  "name": "n<5",
                  "dtype": "object",
                  "stats": {
                    "unique_count": 4,
                    "nan_count": 0,
                    "categories": [
                      {
                        "name": "N",
                        "count": 2
                      },
                      {
                        "name": "9",
                        "count": 1
                      },
                      {
                        "name": "2 others",
                        "count": 2
                      }
                    ]
                  }
                },
                {
                  "name": "n5_9",
                  "dtype": "object",
                  "stats": {
                    "unique_count": 3,
                    "nan_count": 0,
                    "categories": [
                      {
                        "name": "N",
                        "count": 3
                      },
                      {
                        "name": "23",
                        "count": 1
                      },
                      {
                        "name": "4",
                        "count": 1
                      }
                    ]
                  }
                },
                {
                  "name": "n10_19",
                  "dtype": "object",
                  "stats": {
                    "unique_count": 3,
                    "nan_count": 0,
                    "categories": [
                      {
                        "name": "N",
                        "count": 3
                      },
                      {
                        "name": "8",
                        "count": 1
                      },
                      {
                        "name": "4",
                        "count": 1
                      }
                    ]
                  }
                },
                {
                  "name": "n20_49",
                  "dtype": "object",
                  "stats": {
                    "unique_count": 3,
                    "nan_count": 0,
                    "categories": [
                      {
                        "name": "N",
                        "count": 3
                      },
                      {
                        "name": "6",
                        "count": 1
                      },
                      {
                        "name": "4",
                        "count": 1
                      }
                    ]
                  }
                },
                {
                  "name": "n50_99",
                  "dtype": "object",
                  "stats": {
                    "unique_count": 1,
                    "nan_count": 0,
                    "categories": [
                      {
                        "name": "N",
                        "count": 5
                      }
                    ]
                  }
                },
                {
                  "name": "n100_249",
                  "dtype": "object",
                  "stats": {
                    "unique_count": 1,
                    "nan_count": 0,
                    "categories": [
                      {
                        "name": "N",
                        "count": 5
                      }
                    ]
                  }
                },
                {
                  "name": "n250_499",
                  "dtype": "object",
                  "stats": {
                    "unique_count": 1,
                    "nan_count": 0,
                    "categories": [
                      {
                        "name": "N",
                        "count": 5
                      }
                    ]
                  }
                },
                {
                  "name": "n500_999",
                  "dtype": "object",
                  "stats": {
                    "unique_count": 1,
                    "nan_count": 0,
                    "categories": [
                      {
                        "name": "N",
                        "count": 5
                      }
                    ]
                  }
                },
                {
                  "name": "n1000",
                  "dtype": "object",
                  "stats": {
                    "unique_count": 1,
                    "nan_count": 0,
                    "categories": [
                      {
                        "name": "N",
                        "count": 5
                      }
                    ]
                  }
                },
                {
                  "name": "n1000_1",
                  "dtype": "object",
                  "stats": {
                    "unique_count": 1,
                    "nan_count": 0,
                    "categories": [
                      {
                        "name": "N",
                        "count": 5
                      }
                    ]
                  }
                },
                {
                  "name": "n1000_2",
                  "dtype": "object",
                  "stats": {
                    "unique_count": 1,
                    "nan_count": 0,
                    "categories": [
                      {
                        "name": "N",
                        "count": 5
                      }
                    ]
                  }
                },
                {
                  "name": "n1000_3",
                  "dtype": "object",
                  "stats": {
                    "unique_count": 1,
                    "nan_count": 0,
                    "categories": [
                      {
                        "name": "N",
                        "count": 5
                      }
                    ]
                  }
                },
                {
                  "name": "n1000_4",
                  "dtype": "object",
                  "stats": {
                    "unique_count": 1,
                    "nan_count": 0,
                    "categories": [
                      {
                        "name": "N",
                        "count": 5
                      }
                    ]
                  }
                },
                {
                  "name": "v011_rawvalue",
                  "dtype": "float64",
                  "stats": {
                    "unique_count": 1,
                    "nan_count": 0,
                    "min": "0.33",
                    "max": "0.33",
                    "histogram": [
                      {
                        "bin_start": -0.16999999999999998,
                        "bin_end": -0.06999999999999998,
                        "count": 0
                      },
                      {
                        "bin_start": -0.06999999999999998,
                        "bin_end": 0.030000000000000027,
                        "count": 0
                      },
                      {
                        "bin_start": 0.030000000000000027,
                        "bin_end": 0.13000000000000006,
                        "count": 0
                      },
                      {
                        "bin_start": 0.13000000000000006,
                        "bin_end": 0.23000000000000004,
                        "count": 0
                      },
                      {
                        "bin_start": 0.23000000000000004,
                        "bin_end": 0.33,
                        "count": 0
                      },
                      {
                        "bin_start": 0.33,
                        "bin_end": 0.4300000000000001,
                        "count": 5
                      },
                      {
                        "bin_start": 0.4300000000000001,
                        "bin_end": 0.53,
                        "count": 0
                      },
                      {
                        "bin_start": 0.53,
                        "bin_end": 0.6300000000000001,
                        "count": 0
                      },
                      {
                        "bin_start": 0.6300000000000001,
                        "bin_end": 0.73,
                        "count": 0
                      },
                      {
                        "bin_start": 0.73,
                        "bin_end": 0.8300000000000001,
                        "count": 0
                      }
                    ]
                  }
                },
                {
                  "name": "v049_rawvalue",
                  "dtype": "float64",
                  "stats": {
                    "unique_count": 1,
                    "nan_count": 0,
                    "min": "0.1447388631",
                    "max": "0.1447388631",
                    "histogram": [
                      {
                        "bin_start": -0.3552611369,
                        "bin_end": -0.25526113689999996,
                        "count": 0
                      },
                      {
                        "bin_start": -0.25526113689999996,
                        "bin_end": -0.15526113689999999,
                        "count": 0
                      },
                      {
                        "bin_start": -0.15526113689999999,
                        "bin_end": -0.05526113689999995,
                        "count": 0
                      },
                      {
                        "bin_start": -0.05526113689999995,
                        "bin_end": 0.044738863100000026,
                        "count": 0
                      },
                      {
                        "bin_start": 0.044738863100000026,
                        "bin_end": 0.1447388631,
                        "count": 0
                      },
                      {
                        "bin_start": 0.1447388631,
                        "bin_end": 0.2447388631000001,
                        "count": 5
                      },
                      {
                        "bin_start": 0.2447388631000001,
                        "bin_end": 0.34473886310000007,
                        "count": 0
                      },
                      {
                        "bin_start": 0.34473886310000007,
                        "bin_end": 0.44473886310000005,
                        "count": 0
                      },
                      {
                        "bin_start": 0.44473886310000005,
                        "bin_end": 0.5447388631000001,
                        "count": 0
                      },
                      {
                        "bin_start": 0.5447388631000001,
                        "bin_end": 0.6447388631,
                        "count": 0
                      }
                    ]
                  }
                },
                {
                  "name": "v085_rawvalue",
                  "dtype": "float64",
                  "stats": {
                    "unique_count": 1,
                    "nan_count": 0,
                    "min": "0.1004731422",
                    "max": "0.1004731422",
                    "histogram": [
                      {
                        "bin_start": -0.39952685779999997,
                        "bin_end": -0.2995268578,
                        "count": 0
                      },
                      {
                        "bin_start": -0.2995268578,
                        "bin_end": -0.19952685779999996,
                        "count": 0
                      },
                      {
                        "bin_start": -0.19952685779999996,
                        "bin_end": -0.09952685779999992,
                        "count": 0
                      },
                      {
                        "bin_start": -0.09952685779999992,
                        "bin_end": 0.000473142200000054,
                        "count": 0
                      },
                      {
                        "bin_start": 0.000473142200000054,
                        "bin_end": 0.10047314220000003,
                        "count": 5
                      },
                      {
                        "bin_start": 0.10047314220000003,
                        "bin_end": 0.20047314220000012,
                        "count": 0
                      },
                      {
                        "bin_start": 0.20047314220000012,
                        "bin_end": 0.3004731422000001,
                        "count": 0
                      },
                      {
                        "bin_start": 0.3004731422000001,
                        "bin_end": 0.4004731422000001,
                        "count": 0
                      },
                      {
                        "bin_start": 0.4004731422000001,
                        "bin_end": 0.5004731422,
                        "count": 0
                      },
                      {
                        "bin_start": 0.5004731422,
                        "bin_end": 0.6004731422,
                        "count": 0
                      }
                    ]
                  }
                },
                {
                  "name": "v004_rawvalue",
                  "dtype": "float64",
                  "stats": {
                    "unique_count": 1,
                    "nan_count": 0,
                    "min": "0.0004676175",
                    "max": "0.0004676175",
                    "histogram": [
                      {
                        "bin_start": -0.4995323825,
                        "bin_end": -0.3995323825,
                        "count": 0
                      },
                      {
                        "bin_start": -0.3995323825,
                        "bin_end": -0.29953238249999997,
                        "count": 0
                      },
                      {
                        "bin_start": -0.29953238249999997,
                        "bin_end": -0.19953238249999994,
                        "count": 0
                      },
                      {
                        "bin_start": -0.19953238249999994,
                        "bin_end": -0.09953238249999996,
                        "count": 0
                      },
                      {
                        "bin_start": -0.09953238249999996,
                        "bin_end": 0.0004676175000000171,
                        "count": 5
                      },
                      {
                        "bin_start": 0.0004676175000000171,
                        "bin_end": 0.1004676175000001,
                        "count": 0
                      },
                      {
                        "bin_start": 0.1004676175000001,
                        "bin_end": 0.20046761750000008,
                        "count": 0
                      },
                      {
                        "bin_start": 0.20046761750000008,
                        "bin_end": 0.30046761750000006,
                        "count": 0
                      },
                      {
                        "bin_start": 0.30046761750000006,
                        "bin_end": 0.40046761750000004,
                        "count": 0
                      },
                      {
                        "bin_start": 0.40046761750000004,
                        "bin_end": 0.5004676175,
                        "count": 0
                      }
                    ]
                  }
                },
                {
                  "name": "v088_rawvalue",
                  "dtype": "float64",
                  "stats": {
                    "unique_count": 1,
                    "nan_count": 0,
                    "min": "0.0003400813",
                    "max": "0.0003400813",
                    "histogram": [
                      {
                        "bin_start": -0.4996599187,
                        "bin_end": -0.39965991869999995,
                        "count": 0
                      },
                      {
                        "bin_start": -0.39965991869999995,
                        "bin_end": -0.29965991869999997,
                        "count": 0
                      },
                      {
                        "bin_start": -0.29965991869999997,
                        "bin_end": -0.19965991869999994,
                        "count": 0
                      },
                      {
                        "bin_start": -0.19965991869999994,
                        "bin_end": -0.09965991869999996,
                        "count": 0
                      },
                      {
                        "bin_start": -0.09965991869999996,
                        "bin_end": 0.0003400813000000169,
                        "count": 5
                      },
                      {
                        "bin_start": 0.0003400813000000169,
                        "bin_end": 0.1003400813000001,
                        "count": 0
                      },
                      {
                        "bin_start": 0.1003400813000001,
                        "bin_end": 0.20034008130000008,
                        "count": 0
                      },
                      {
                        "bin_start": 0.20034008130000008,
                        "bin_end": 0.30034008130000006,
                        "count": 0
                      },
                      {
                        "bin_start": 0.30034008130000006,
                        "bin_end": 0.40034008130000004,
                        "count": 0
                      },
                      {
                        "bin_start": 0.40034008130000004,
                        "bin_end": 0.5003400813,
                        "count": 0
                      }
                    ]
                  }
                },
                {
                  "name": "v062_rawvalue",
                  "dtype": "float64",
                  "stats": {
                    "unique_count": 1,
                    "nan_count": 0,
                    "min": "0.0002863842",
                    "max": "0.0002863842",
                    "histogram": [
                      {
                        "bin_start": -0.4997136158,
                        "bin_end": -0.3997136158,
                        "count": 0
                      },
                      {
                        "bin_start": -0.3997136158,
                        "bin_end": -0.2997136158,
                        "count": 0
                      },
                      {
                        "bin_start": -0.2997136158,
                        "bin_end": -0.19971361579999997,
                        "count": 0
                      },
                      {
                        "bin_start": -0.19971361579999997,
                        "bin_end": -0.09971361579999999,
                        "count": 0
                      },
                      {
                        "bin_start": -0.09971361579999999,
                        "bin_end": 0.00028638419999998943,
                        "count": 0
                      },
                      {
                        "bin_start": 0.00028638419999998943,
                        "bin_end": 0.10028638420000008,
                        "count": 5
                      },
                      {
                        "bin_start": 0.10028638420000008,
                        "bin_end": 0.20028638420000006,
                        "count": 0
                      },
                      {
                        "bin_start": 0.20028638420000006,
                        "bin_end": 0.30028638420000003,
                        "count": 0
                      },
                      {
                        "bin_start": 0.30028638420000003,
                        "bin_end": 0.4002863842,
                        "count": 0
                      },
                      {
                        "bin_start": 0.4002863842,
                        "bin_end": 0.5002863842,
                        "count": 0
                      }
                    ]
                  }
                },
                {
                  "name": "v005_rawvalue",
                  "dtype": "float64",
                  "stats": {
                    "unique_count": 1,
                    "nan_count": 0,
                    "min": "6650.0",
                    "max": "6650.0",
                    "histogram": [
                      {
                        "bin_start": 6649.5,
                        "bin_end": 6649.6,
                        "count": 0
                      },
                      {
                        "bin_start": 6649.6,
                        "bin_end": 6649.7,
                        "count": 0
                      },
                      {
                        "bin_start": 6649.7,
                        "bin_end": 6649.8,
                        "count": 0
                      },
                      {
                        "bin_start": 6649.8,
                        "bin_end": 6649.9,
                        "count": 0
                      },
                      {
                        "bin_start": 6649.9,
                        "bin_end": 6650,
                        "count": 0
                      },
                      {
                        "bin_start": 6650,
                        "bin_end": 6650.1,
                        "count": 5
                      },
                      {
                        "bin_start": 6650.1,
                        "bin_end": 6650.2,
                        "count": 0
                      },
                      {
                        "bin_start": 6650.2,
                        "bin_end": 6650.3,
                        "count": 0
                      },
                      {
                        "bin_start": 6650.3,
                        "bin_end": 6650.4,
                        "count": 0
                      },
                      {
                        "bin_start": 6650.4,
                        "bin_end": 6650.5,
                        "count": 0
                      }
                    ]
                  }
                },
                {
                  "name": "v023_rawvalue",
                  "dtype": "float64",
                  "stats": {
                    "unique_count": 1,
                    "nan_count": 0,
                    "min": "0.0272810637",
                    "max": "0.0272810637",
                    "histogram": [
                      {
                        "bin_start": -0.4727189363,
                        "bin_end": -0.37271893629999997,
                        "count": 0
                      },
                      {
                        "bin_start": -0.37271893629999997,
                        "bin_end": -0.2727189363,
                        "count": 0
                      },
                      {
                        "bin_start": -0.2727189363,
                        "bin_end": -0.17271893629999996,
                        "count": 0
                      },
                      {
                        "bin_start": -0.17271893629999996,
                        "bin_end": -0.07271893629999998,
                        "count": 0
                      },
                      {
                        "bin_start": -0.07271893629999998,
                        "bin_end": 0.027281063699999997,
                        "count": 0
                      },
                      {
                        "bin_start": 0.027281063699999997,
                        "bin_end": 0.12728106370000009,
                        "count": 5
                      },
                      {
                        "bin_start": 0.12728106370000009,
                        "bin_end": 0.22728106370000006,
                        "count": 0
                      },
                      {
                        "bin_start": 0.22728106370000006,
                        "bin_end": 0.32728106370000004,
                        "count": 0
                      },
                      {
                        "bin_start": 0.32728106370000004,
                        "bin_end": 0.4272810637,
                        "count": 0
                      },
                      {
                        "bin_start": 0.4272810637,
                        "bin_end": 0.5272810637,
                        "count": 0
                      }
                    ]
                  }
                },
                {
                  "name": "v125_rawvalue",
                  "dtype": "float64",
                  "stats": {
                    "unique_count": 1,
                    "nan_count": 0,
                    "min": "10.4",
                    "max": "10.4",
                    "histogram": [
                      {
                        "bin_start": 9.9,
                        "bin_end": 10,
                        "count": 0
                      },
                      {
                        "bin_start": 10,
                        "bin_end": 10.1,
                        "count": 0
                      },
                      {
                        "bin_start": 10.1,
                        "bin_end": 10.200000000000001,
                        "count": 0
                      },
                      {
                        "bin_start": 10.200000000000001,
                        "bin_end": 10.3,
                        "count": 0
                      },
                      {
                        "bin_start": 10.3,
                        "bin_end": 10.4,
                        "count": 0
                      },
                      {
                        "bin_start": 10.4,
                        "bin_end": 10.5,
                        "count": 5
                      },
                      {
                        "bin_start": 10.5,
                        "bin_end": 10.6,
                        "count": 0
                      },
                      {
                        "bin_start": 10.6,
                        "bin_end": 10.700000000000001,
                        "count": 0
                      },
                      {
                        "bin_start": 10.700000000000001,
                        "bin_end": 10.8,
                        "count": 0
                      },
                      {
                        "bin_start": 10.8,
                        "bin_end": 10.9,
                        "count": 0
                      }
                    ]
                  }
                },
                {
                  "name": "v136_rawvalue",
                  "dtype": "float64",
                  "stats": {
                    "unique_count": 1,
                    "nan_count": 0,
                    "min": "0.1363096652",
                    "max": "0.1363096652",
                    "histogram": [
                      {
                        "bin_start": -0.3636903348,
                        "bin_end": -0.26369033480000004,
                        "count": 0
                      },
                      {
                        "bin_start": -0.26369033480000004,
                        "bin_end": -0.1636903348,
                        "count": 0
                      },
                      {
                        "bin_start": -0.1636903348,
                        "bin_end": -0.06369033479999997,
                        "count": 0
                      },
                      {
                        "bin_start": -0.06369033479999997,
                        "bin_end": 0.03630966520000001,
                        "count": 0
                      },
                      {
                        "bin_start": 0.03630966520000001,
                        "bin_end": 0.13630966519999999,
                        "count": 0
                      },
                      {
                        "bin_start": 0.13630966519999999,
                        "bin_end": 0.23630966520000007,
                        "count": 5
                      },
                      {
                        "bin_start": 0.23630966520000007,
                        "bin_end": 0.33630966520000005,
                        "count": 0
                      },
                      {
                        "bin_start": 0.33630966520000005,
                        "bin_end": 0.43630966520000003,
                        "count": 0
                      },
                      {
                        "bin_start": 0.43630966520000003,
                        "bin_end": 0.5363096652,
                        "count": 0
                      },
                      {
                        "bin_start": 0.5363096652,
                        "bin_end": 0.6363096652,
                        "count": 0
                      }
                    ]
                  }
                },
                {
                  "name": "v147_rawvalue",
                  "dtype": "float64",
                  "stats": {
                    "unique_count": 1,
                    "nan_count": 0,
                    "min": "77.162581316",
                    "max": "77.162581316",
                    "histogram": [
                      {
                        "bin_start": 76.662581316,
                        "bin_end": 76.762581316,
                        "count": 0
                      },
                      {
                        "bin_start": 76.762581316,
                        "bin_end": 76.862581316,
                        "count": 0
                      },
                      {
                        "bin_start": 76.862581316,
                        "bin_end": 76.962581316,
                        "count": 0
                      },
                      {
                        "bin_start": 76.962581316,
                        "bin_end": 77.062581316,
                        "count": 0
                      },
                      {
                        "bin_start": 77.062581316,
                        "bin_end": 77.162581316,
                        "count": 0
                      },
                      {
                        "bin_start": 77.162581316,
                        "bin_end": 77.262581316,
                        "count": 5
                      },
                      {
                        "bin_start": 77.262581316,
                        "bin_end": 77.362581316,
                        "count": 0
                      },
                      {
                        "bin_start": 77.362581316,
                        "bin_end": 77.462581316,
                        "count": 0
                      },
                      {
                        "bin_start": 77.462581316,
                        "bin_end": 77.562581316,
                        "count": 0
                      },
                      {
                        "bin_start": 77.562581316,
                        "bin_end": 77.662581316,
                        "count": 0
                      }
                    ]
                  }
                },
                {
                  "name": "v060_rawvalue",
                  "dtype": "float64",
                  "stats": {
                    "unique_count": 1,
                    "nan_count": 0,
                    "min": "0.127",
                    "max": "0.127",
                    "histogram": [
                      {
                        "bin_start": -0.373,
                        "bin_end": -0.273,
                        "count": 0
                      },
                      {
                        "bin_start": -0.273,
                        "bin_end": -0.173,
                        "count": 0
                      },
                      {
                        "bin_start": -0.173,
                        "bin_end": -0.07299999999999995,
                        "count": 0
                      },
                      {
                        "bin_start": -0.07299999999999995,
                        "bin_end": 0.027000000000000024,
                        "count": 0
                      },
                      {
                        "bin_start": 0.027000000000000024,
                        "bin_end": 0.127,
                        "count": 0
                      },
                      {
                        "bin_start": 0.127,
                        "bin_end": 0.2270000000000001,
                        "count": 5
                      },
                      {
                        "bin_start": 0.2270000000000001,
                        "bin_end": 0.32700000000000007,
                        "count": 0
                      },
                      {
                        "bin_start": 0.32700000000000007,
                        "bin_end": 0.42700000000000005,
                        "count": 0
                      },
                      {
                        "bin_start": 0.42700000000000005,
                        "bin_end": 0.527,
                        "count": 0
                      },
                      {
                        "bin_start": 0.527,
                        "bin_end": 0.627,
                        "count": 0
                      }
                    ]
                  }
                },
                {
                  "name": "v139_rawvalue",
                  "dtype": "float64",
                  "stats": {
                    "unique_count": 1,
                    "nan_count": 0,
                    "min": "0.156",
                    "max": "0.156",
                    "histogram": [
                      {
                        "bin_start": -0.344,
                        "bin_end": -0.24399999999999997,
                        "count": 0
                      },
                      {
                        "bin_start": -0.24399999999999997,
                        "bin_end": -0.14399999999999996,
                        "count": 0
                      },
                      {
                        "bin_start": -0.14399999999999996,
                        "bin_end": -0.04399999999999993,
                        "count": 0
                      },
                      {
                        "bin_start": -0.04399999999999993,
                        "bin_end": 0.05600000000000005,
                        "count": 0
                      },
                      {
                        "bin_start": 0.05600000000000005,
                        "bin_end": 0.15600000000000003,
                        "count": 5
                      },
                      {
                        "bin_start": 0.15600000000000003,
                        "bin_end": 0.2560000000000001,
                        "count": 0
                      },
                      {
                        "bin_start": 0.2560000000000001,
                        "bin_end": 0.3560000000000001,
                        "count": 0
                      },
                      {
                        "bin_start": 0.3560000000000001,
                        "bin_end": 0.45600000000000007,
                        "count": 0
                      },
                      {
                        "bin_start": 0.45600000000000007,
                        "bin_end": 0.556,
                        "count": 0
                      },
                      {
                        "bin_start": 0.556,
                        "bin_end": 0.656,
                        "count": 0
                      }
                    ]
                  }
                },
                {
                  "name": "v083_rawvalue",
                  "dtype": "float64",
                  "stats": {
                    "unique_count": 1,
                    "nan_count": 0,
                    "min": "0.11991125",
                    "max": "0.11991125",
                    "histogram": [
                      {
                        "bin_start": -0.38008875,
                        "bin_end": -0.28008875,
                        "count": 0
                      },
                      {
                        "bin_start": -0.28008875,
                        "bin_end": -0.18008874999999996,
                        "count": 0
                      },
                      {
                        "bin_start": -0.18008874999999996,
                        "bin_end": -0.08008874999999993,
                        "count": 0
                      },
                      {
                        "bin_start": -0.08008874999999993,
                        "bin_end": 0.019911250000000047,
                        "count": 0
                      },
                      {
                        "bin_start": 0.019911250000000047,
                        "bin_end": 0.11991125000000002,
                        "count": 5
                      },
                      {
                        "bin_start": 0.11991125000000002,
                        "bin_end": 0.2199112500000001,
                        "count": 0
                      },
                      {
                        "bin_start": 0.2199112500000001,
                        "bin_end": 0.3199112500000001,
                        "count": 0
                      },
                      {
                        "bin_start": 0.3199112500000001,
                        "bin_end": 0.41991125000000007,
                        "count": 0
                      },
                      {
                        "bin_start": 0.41991125000000007,
                        "bin_end": 0.51991125,
                        "count": 0
                      },
                      {
                        "bin_start": 0.51991125,
                        "bin_end": 0.61991125,
                        "count": 0
                      }
                    ]
                  }
                },
                {
                  "name": "v156_rawvalue",
                  "dtype": "float64",
                  "stats": {
                    "unique_count": 1,
                    "nan_count": 0,
                    "min": "155.09552349",
                    "max": "155.09552349",
                    "histogram": [
                      {
                        "bin_start": 154.59552349,
                        "bin_end": 154.69552349,
                        "count": 0
                      },
                      {
                        "bin_start": 154.69552349,
                        "bin_end": 154.79552349,
                        "count": 0
                      },
                      {
                        "bin_start": 154.79552349,
                        "bin_end": 154.89552349000002,
                        "count": 0
                      },
                      {
                        "bin_start": 154.89552349000002,
                        "bin_end": 154.99552349,
                        "count": 0
                      },
                      {
                        "bin_start": 154.99552349,
                        "bin_end": 155.09552349,
                        "count": 0
                      },
                      {
                        "bin_start": 155.09552349,
                        "bin_end": 155.19552349,
                        "count": 5
                      },
                      {
                        "bin_start": 155.19552349,
                        "bin_end": 155.29552349,
                        "count": 0
                      },
                      {
                        "bin_start": 155.29552349,
                        "bin_end": 155.39552349000002,
                        "count": 0
                      },
                      {
                        "bin_start": 155.39552349000002,
                        "bin_end": 155.49552349,
                        "count": 0
                      },
                      {
                        "bin_start": 155.49552349,
                        "bin_end": 155.59552349,
                        "count": 0
                      }
                    ]
                  }
                },
                {
                  "name": "v153_rawvalue",
                  "dtype": "float64",
                  "stats": {
                    "unique_count": 1,
                    "nan_count": 0,
                    "min": "0.7329064822",
                    "max": "0.7329064822",
                    "histogram": [
                      {
                        "bin_start": 0.2329064822,
                        "bin_end": 0.33290648219999996,
                        "count": 0
                      },
                      {
                        "bin_start": 0.33290648219999996,
                        "bin_end": 0.4329064822,
                        "count": 0
                      },
                      {
                        "bin_start": 0.4329064822,
                        "bin_end": 0.5329064822,
                        "count": 0
                      },
                      {
                        "bin_start": 0.5329064822,
                        "bin_end": 0.6329064822,
                        "count": 0
                      },
                      {
                        "bin_start": 0.6329064822,
                        "bin_end": 0.7329064822,
                        "count": 0
                      },
                      {
                        "bin_start": 0.7329064822,
                        "bin_end": 0.8329064822000001,
                        "count": 5
                      },
                      {
                        "bin_start": 0.8329064822000001,
                        "bin_end": 0.9329064822,
                        "count": 0
                      },
                      {
                        "bin_start": 0.9329064822,
                        "bin_end": 1.0329064822,
                        "count": 0
                      },
                      {
                        "bin_start": 1.0329064822,
                        "bin_end": 1.1329064822000001,
                        "count": 0
                      },
                      {
                        "bin_start": 1.1329064822000001,
                        "bin_end": 1.2329064822,
                        "count": 0
                      }
                    ]
                  }
                },
                {
                  "name": "v166_rawvalue",
                  "dtype": "float64",
                  "stats": {
                    "unique_count": 1,
                    "nan_count": 0,
                    "min": "0.8056736926",
                    "max": "0.8056736926",
                    "histogram": [
                      {
                        "bin_start": 0.3056736926,
                        "bin_end": 0.40567369259999997,
                        "count": 0
                      },
                      {
                        "bin_start": 0.40567369259999997,
                        "bin_end": 0.5056736926000001,
                        "count": 0
                      },
                      {
                        "bin_start": 0.5056736926000001,
                        "bin_end": 0.6056736926,
                        "count": 0
                      },
                      {
                        "bin_start": 0.6056736926,
                        "bin_end": 0.7056736926,
                        "count": 0
                      },
                      {
                        "bin_start": 0.7056736926,
                        "bin_end": 0.8056736926,
                        "count": 0
                      },
                      {
                        "bin_start": 0.8056736926,
                        "bin_end": 0.9056736926000001,
                        "count": 5
                      },
                      {
                        "bin_start": 0.9056736926000001,
                        "bin_end": 1.0056736926,
                        "count": 0
                      },
                      {
                        "bin_start": 1.0056736926,
                        "bin_end": 1.1056736926,
                        "count": 0
                      },
                      {
                        "bin_start": 1.1056736926,
                        "bin_end": 1.2056736926,
                        "count": 0
                      },
                      {
                        "bin_start": 1.2056736926,
                        "bin_end": 1.3056736926,
                        "count": 0
                      }
                    ]
                  }
                },
                {
                  "name": "v051_rawvalue",
                  "dtype": "int64",
                  "stats": {
                    "unique_count": 1,
                    "nan_count": 0,
                    "min": "55869",
                    "max": "55869",
                    "histogram": [
                      {
                        "bin_start": 55868.5,
                        "bin_end": 55868.6,
                        "count": 0
                      },
                      {
                        "bin_start": 55868.6,
                        "bin_end": 55868.7,
                        "count": 0
                      },
                      {
                        "bin_start": 55868.7,
                        "bin_end": 55868.8,
                        "count": 0
                      },
                      {
                        "bin_start": 55868.8,
                        "bin_end": 55868.9,
                        "count": 0
                      },
                      {
                        "bin_start": 55868.9,
                        "bin_end": 55869,
                        "count": 0
                      },
                      {
                        "bin_start": 55869,
                        "bin_end": 55869.1,
                        "count": 5
                      },
                      {
                        "bin_start": 55869.1,
                        "bin_end": 55869.2,
                        "count": 0
                      },
                      {
                        "bin_start": 55869.2,
                        "bin_end": 55869.3,
                        "count": 0
                      },
                      {
                        "bin_start": 55869.3,
                        "bin_end": 55869.4,
                        "count": 0
                      },
                      {
                        "bin_start": 55869.4,
                        "bin_end": 55869.5,
                        "count": 0
                      }
                    ]
                  }
                },
                {
                  "name": "v052_rawvalue",
                  "dtype": "float64",
                  "stats": {
                    "unique_count": 1,
                    "nan_count": 0,
                    "min": "0.2320607135",
                    "max": "0.2320607135",
                    "histogram": [
                      {
                        "bin_start": -0.2679392865,
                        "bin_end": -0.16793928649999998,
                        "count": 0
                      },
                      {
                        "bin_start": -0.16793928649999998,
                        "bin_end": -0.06793928649999997,
                        "count": 0
                      },
                      {
                        "bin_start": -0.06793928649999997,
                        "bin_end": 0.03206071350000006,
                        "count": 0
                      },
                      {
                        "bin_start": 0.03206071350000006,
                        "bin_end": 0.13206071350000004,
                        "count": 0
                      },
                      {
                        "bin_start": 0.13206071350000004,
                        "bin_end": 0.23206071350000002,
                        "count": 5
                      },
                      {
                        "bin_start": 0.23206071350000002,
                        "bin_end": 0.3320607135000001,
                        "count": 0
                      },
                      {
                        "bin_start": 0.3320607135000001,
                        "bin_end": 0.4320607135000001,
                        "count": 0
                      },
                      {
                        "bin_start": 0.4320607135000001,
                        "bin_end": 0.5320607135000001,
                        "count": 0
                      },
                      {
                        "bin_start": 0.5320607135000001,
                        "bin_end": 0.6320607135,
                        "count": 0
                      },
                      {
                        "bin_start": 0.6320607135,
                        "bin_end": 0.7320607135,
                        "count": 0
                      }
                    ]
                  }
                },
                {
                  "name": "v053_rawvalue",
                  "dtype": "float64",
                  "stats": {
                    "unique_count": 1,
                    "nan_count": 0,
                    "min": "0.1597307988",
                    "max": "0.1597307988",
                    "histogram": [
                      {
                        "bin_start": -0.34026920120000004,
                        "bin_end": -0.24026920120000003,
                        "count": 0
                      },
                      {
                        "bin_start": -0.24026920120000003,
                        "bin_end": -0.14026920120000003,
                        "count": 0
                      },
                      {
                        "bin_start": -0.14026920120000003,
                        "bin_end": -0.04026920119999999,
                        "count": 0
                      },
                      {
                        "bin_start": -0.04026920119999999,
                        "bin_end": 0.059730798799999985,
                        "count": 0
                      },
                      {
                        "bin_start": 0.059730798799999985,
                        "bin_end": 0.15973079879999996,
                        "count": 0
                      },
                      {
                        "bin_start": 0.15973079879999996,
                        "bin_end": 0.25973079880000005,
                        "count": 5
                      },
                      {
                        "bin_start": 0.25973079880000005,
                        "bin_end": 0.35973079880000003,
                        "count": 0
                      },
                      {
                        "bin_start": 0.35973079880000003,
                        "bin_end": 0.4597307988,
                        "count": 0
                      },
                      {
                        "bin_start": 0.4597307988,
                        "bin_end": 0.5597307988,
                        "count": 0
                      },
                      {
                        "bin_start": 0.5597307988,
                        "bin_end": 0.6597307988,
                        "count": 0
                      }
                    ]
                  }
                },
                {
                  "name": "v131_rawvalue",
                  "dtype": "float64",
                  "stats": {
                    "unique_count": 1,
                    "nan_count": 0,
                    "min": "0.0004116773",
                    "max": "0.0004116773",
                    "histogram": [
                      {
                        "bin_start": -0.4995883227,
                        "bin_end": -0.3995883227,
                        "count": 0
                      },
                      {
                        "bin_start": -0.3995883227,
                        "bin_end": -0.29958832269999996,
                        "count": 0
                      },
                      {
                        "bin_start": -0.29958832269999996,
                        "bin_end": -0.19958832269999993,
                        "count": 0
                      },
                      {
                        "bin_start": -0.19958832269999993,
                        "bin_end": -0.09958832269999995,
                        "count": 0
                      },
                      {
                        "bin_start": -0.09958832269999995,
                        "bin_end": 0.000411677300000024,
                        "count": 5
                      },
                      {
                        "bin_start": 0.000411677300000024,
                        "bin_end": 0.10041167730000011,
                        "count": 0
                      },
                      {
                        "bin_start": 0.10041167730000011,
                        "bin_end": 0.2004116773000001,
                        "count": 0
                      },
                      {
                        "bin_start": 0.2004116773000001,
                        "bin_end": 0.30041167730000007,
                        "count": 0
                      },
                      {
                        "bin_start": 0.30041167730000007,
                        "bin_end": 0.40041167730000005,
                        "count": 0
                      },
                      {
                        "bin_start": 0.40041167730000005,
                        "bin_end": 0.5004116773,
                        "count": 0
                      }
                    ]
                  }
                },
                {
                  "name": "v144_rawvalue",
                  "dtype": "float64",
                  "stats": {
                    "unique_count": 1,
                    "nan_count": 0,
                    "min": "0.1325295812",
                    "max": "0.1325295812",
                    "histogram": [
                      {
                        "bin_start": -0.3674704188,
                        "bin_end": -0.2674704188,
                        "count": 0
                      },
                      {
                        "bin_start": -0.2674704188,
                        "bin_end": -0.16747041879999996,
                        "count": 0
                      },
                      {
                        "bin_start": -0.16747041879999996,
                        "bin_end": -0.06747041879999993,
                        "count": 0
                      },
                      {
                        "bin_start": -0.06747041879999993,
                        "bin_end": 0.032529581200000046,
                        "count": 0
                      },
                      {
                        "bin_start": 0.032529581200000046,
                        "bin_end": 0.13252958120000002,
                        "count": 5
                      },
                      {
                        "bin_start": 0.13252958120000002,
                        "bin_end": 0.2325295812000001,
                        "count": 0
                      },
                      {
                        "bin_start": 0.2325295812000001,
                        "bin_end": 0.3325295812000001,
                        "count": 0
                      },
                      {
                        "bin_start": 0.3325295812000001,
                        "bin_end": 0.43252958120000007,
                        "count": 0
                      },
                      {
                        "bin_start": 0.43252958120000007,
                        "bin_end": 0.5325295812,
                        "count": 0
                      },
                      {
                        "bin_start": 0.5325295812,
                        "bin_end": 0.6325295812,
                        "count": 0
                      }
                    ]
                  }
                },
                {
                  "name": "v145_rawvalue",
                  "dtype": "float64",
                  "stats": {
                    "unique_count": 1,
                    "nan_count": 0,
                    "min": "0.1580923066",
                    "max": "0.1580923066",
                    "histogram": [
                      {
                        "bin_start": -0.3419076934,
                        "bin_end": -0.24190769339999998,
                        "count": 0
                      },
                      {
                        "bin_start": -0.24190769339999998,
                        "bin_end": -0.14190769339999998,
                        "count": 0
                      },
                      {
                        "bin_start": -0.14190769339999998,
                        "bin_end": -0.041907693399999946,
                        "count": 0
                      },
                      {
                        "bin_start": -0.041907693399999946,
                        "bin_end": 0.05809230660000003,
                        "count": 0
                      },
                      {
                        "bin_start": 0.05809230660000003,
                        "bin_end": 0.1580923066,
                        "count": 0
                      },
                      {
                        "bin_start": 0.1580923066,
                        "bin_end": 0.2580923066000001,
                        "count": 5
                      },
                      {
                        "bin_start": 0.2580923066000001,
                        "bin_end": 0.3580923066000001,
                        "count": 0
                      },
                      {
                        "bin_start": 0.3580923066000001,
                        "bin_end": 0.45809230660000005,
                        "count": 0
                      },
                      {
                        "bin_start": 0.45809230660000005,
                        "bin_end": 0.5580923066000001,
                        "count": 0
                      },
                      {
                        "bin_start": 0.5580923066000001,
                        "bin_end": 0.6580923066,
                        "count": 0
                      }
                    ]
                  }
                },
                {
                  "name": "v136_other_data_1",
                  "dtype": "float64",
                  "stats": {
                    "unique_count": 1,
                    "nan_count": 0,
                    "min": "0.1203259827",
                    "max": "0.1203259827",
                    "histogram": [
                      {
                        "bin_start": -0.3796740173,
                        "bin_end": -0.27967401729999997,
                        "count": 0
                      },
                      {
                        "bin_start": -0.27967401729999997,
                        "bin_end": -0.1796740173,
                        "count": 0
                      },
                      {
                        "bin_start": -0.1796740173,
                        "bin_end": -0.07967401729999996,
                        "count": 0
                      },
                      {
                        "bin_start": -0.07967401729999996,
                        "bin_end": 0.020325982700000023,
                        "count": 0
                      },
                      {
                        "bin_start": 0.020325982700000023,
                        "bin_end": 0.1203259827,
                        "count": 0
                      },
                      {
                        "bin_start": 0.1203259827,
                        "bin_end": 0.2203259827000001,
                        "count": 5
                      },
                      {
                        "bin_start": 0.2203259827000001,
                        "bin_end": 0.32032598270000007,
                        "count": 0
                      },
                      {
                        "bin_start": 0.32032598270000007,
                        "bin_end": 0.42032598270000004,
                        "count": 0
                      },
                      {
                        "bin_start": 0.42032598270000004,
                        "bin_end": 0.5203259827,
                        "count": 0
                      },
                      {
                        "bin_start": 0.5203259827,
                        "bin_end": 0.6203259827000001,
                        "count": 0
                      }
                    ]
                  }
                },
                {
                  "name": "v136_other_data_2",
                  "dtype": "float64",
                  "stats": {
                    "unique_count": 1,
                    "nan_count": 0,
                    "min": "0.0111612444",
                    "max": "0.0111612444",
                    "histogram": [
                      {
                        "bin_start": -0.4888387556,
                        "bin_end": -0.38883875560000003,
                        "count": 0
                      },
                      {
                        "bin_start": -0.38883875560000003,
                        "bin_end": -0.2888387556,
                        "count": 0
                      },
                      {
                        "bin_start": -0.2888387556,
                        "bin_end": -0.18883875559999996,
                        "count": 0
                      },
                      {
                        "bin_start": -0.18883875559999996,
                        "bin_end": -0.08883875559999999,
                        "count": 0
                      },
                      {
                        "bin_start": -0.08883875559999999,
                        "bin_end": 0.011161244399999992,
                        "count": 0
                      },
                      {
                        "bin_start": 0.011161244399999992,
                        "bin_end": 0.11116124440000008,
                        "count": 5
                      },
                      {
                        "bin_start": 0.11116124440000008,
                        "bin_end": 0.21116124440000006,
                        "count": 0
                      },
                      {
                        "bin_start": 0.21116124440000006,
                        "bin_end": 0.31116124440000004,
                        "count": 0
                      },
                      {
                        "bin_start": 0.31116124440000004,
                        "bin_end": 0.4111612444,
                        "count": 0
                      },
                      {
                        "bin_start": 0.4111612444,
                        "bin_end": 0.5111612444,
                        "count": 0
                      }
                    ]
                  }
                },
                {
                  "name": "v136_other_data_3",
                  "dtype": "float64",
                  "stats": {
                    "unique_count": 1,
                    "nan_count": 0,
                    "min": "0.0154357635",
                    "max": "0.0154357635",
                    "histogram": [
                      {
                        "bin_start": -0.4845642365,
                        "bin_end": -0.38456423650000005,
                        "count": 0
                      },
                      {
                        "bin_start": -0.38456423650000005,
                        "bin_end": -0.2845642365,
                        "count": 0
                      },
                      {
                        "bin_start": -0.2845642365,
                        "bin_end": -0.18456423649999998,
                        "count": 0
                      },
                      {
                        "bin_start": -0.18456423649999998,
                        "bin_end": -0.0845642365,
                        "count": 0
                      },
                      {
                        "bin_start": -0.0845642365,
                        "bin_end": 0.015435763499999977,
                        "count": 0
                      },
                      {
                        "bin_start": 0.015435763499999977,
                        "bin_end": 0.11543576350000007,
                        "count": 5
                      },
                      {
                        "bin_start": 0.11543576350000007,
                        "bin_end": 0.21543576350000004,
                        "count": 0
                      },
                      {
                        "bin_start": 0.21543576350000004,
                        "bin_end": 0.3154357635,
                        "count": 0
                      },
                      {
                        "bin_start": 0.3154357635,
                        "bin_end": 0.4154357635,
                        "count": 0
                      },
                      {
                        "bin_start": 0.4154357635,
                        "bin_end": 0.5154357635,
                        "count": 0
                      }
                    ]
                  }
                },
                {
                  "name": "_deepnote_index_column",
                  "dtype": "int64"
                }
              ],
              "rows": [
                {
                  "fipscode": "01001",
                  "state": "AL",
                  "county": "Autauga",
                  "naics": "11----",
                  "Industry Description": "Agriculture, Forestry, Fishing and Hunting",
                  "emp_nf": "G",
                  "emp": 78,
                  "qp1_nf": "G",
                  "qp1": 1325,
                  "ap_nf": "G",
                  "ap": 5107,
                  "est": 10,
                  "n<5": "9",
                  "n5_9": "N",
                  "n10_19": "N",
                  "n20_49": "N",
                  "n50_99": "N",
                  "n100_249": "N",
                  "n250_499": "N",
                  "n500_999": "N",
                  "n1000": "N",
                  "n1000_1": "N",
                  "n1000_2": "N",
                  "n1000_3": "N",
                  "n1000_4": "N",
                  "v011_rawvalue": 0.33,
                  "v049_rawvalue": 0.1447388631,
                  "v085_rawvalue": 0.1004731422,
                  "v004_rawvalue": 0.0004676175,
                  "v088_rawvalue": 0.0003400813,
                  "v062_rawvalue": 0.0002863842,
                  "v005_rawvalue": 6650,
                  "v023_rawvalue": 0.0272810637,
                  "v125_rawvalue": 10.4,
                  "v136_rawvalue": 0.1363096652,
                  "v147_rawvalue": 77.162581316,
                  "v060_rawvalue": 0.127,
                  "v139_rawvalue": 0.156,
                  "v083_rawvalue": 0.11991125,
                  "v156_rawvalue": 155.09552349,
                  "v153_rawvalue": 0.7329064822,
                  "v166_rawvalue": 0.8056736926,
                  "v051_rawvalue": 55869,
                  "v052_rawvalue": 0.2320607135,
                  "v053_rawvalue": 0.1597307988,
                  "v131_rawvalue": 0.0004116773,
                  "v144_rawvalue": 0.1325295812,
                  "v145_rawvalue": 0.1580923066,
                  "v136_other_data_1": 0.1203259827,
                  "v136_other_data_2": 0.0111612444,
                  "v136_other_data_3": 0.0154357635,
                  "_deepnote_index_column": 0
                },
                {
                  "fipscode": "01001",
                  "state": "AL",
                  "county": "Autauga",
                  "naics": "21----",
                  "Industry Description": "Mining, Quarrying, and Oil and Gas Extraction",
                  "emp_nf": "G",
                  "emp": 87,
                  "qp1_nf": "G",
                  "qp1": 1224,
                  "ap_nf": "G",
                  "ap": 5144,
                  "est": 6,
                  "n<5": "N",
                  "n5_9": "N",
                  "n10_19": "N",
                  "n20_49": "N",
                  "n50_99": "N",
                  "n100_249": "N",
                  "n250_499": "N",
                  "n500_999": "N",
                  "n1000": "N",
                  "n1000_1": "N",
                  "n1000_2": "N",
                  "n1000_3": "N",
                  "n1000_4": "N",
                  "v011_rawvalue": 0.33,
                  "v049_rawvalue": 0.1447388631,
                  "v085_rawvalue": 0.1004731422,
                  "v004_rawvalue": 0.0004676175,
                  "v088_rawvalue": 0.0003400813,
                  "v062_rawvalue": 0.0002863842,
                  "v005_rawvalue": 6650,
                  "v023_rawvalue": 0.0272810637,
                  "v125_rawvalue": 10.4,
                  "v136_rawvalue": 0.1363096652,
                  "v147_rawvalue": 77.162581316,
                  "v060_rawvalue": 0.127,
                  "v139_rawvalue": 0.156,
                  "v083_rawvalue": 0.11991125,
                  "v156_rawvalue": 155.09552349,
                  "v153_rawvalue": 0.7329064822,
                  "v166_rawvalue": 0.8056736926,
                  "v051_rawvalue": 55869,
                  "v052_rawvalue": 0.2320607135,
                  "v053_rawvalue": 0.1597307988,
                  "v131_rawvalue": 0.0004116773,
                  "v144_rawvalue": 0.1325295812,
                  "v145_rawvalue": 0.1580923066,
                  "v136_other_data_1": 0.1203259827,
                  "v136_other_data_2": 0.0111612444,
                  "v136_other_data_3": 0.0154357635,
                  "_deepnote_index_column": 1
                },
                {
                  "fipscode": "01001",
                  "state": "AL",
                  "county": "Autauga",
                  "naics": "22----",
                  "Industry Description": "Utilities",
                  "emp_nf": "G",
                  "emp": 138,
                  "qp1_nf": "H",
                  "qp1": 4508,
                  "ap_nf": "G",
                  "ap": 16713,
                  "est": 5,
                  "n<5": "N",
                  "n5_9": "N",
                  "n10_19": "N",
                  "n20_49": "N",
                  "n50_99": "N",
                  "n100_249": "N",
                  "n250_499": "N",
                  "n500_999": "N",
                  "n1000": "N",
                  "n1000_1": "N",
                  "n1000_2": "N",
                  "n1000_3": "N",
                  "n1000_4": "N",
                  "v011_rawvalue": 0.33,
                  "v049_rawvalue": 0.1447388631,
                  "v085_rawvalue": 0.1004731422,
                  "v004_rawvalue": 0.0004676175,
                  "v088_rawvalue": 0.0003400813,
                  "v062_rawvalue": 0.0002863842,
                  "v005_rawvalue": 6650,
                  "v023_rawvalue": 0.0272810637,
                  "v125_rawvalue": 10.4,
                  "v136_rawvalue": 0.1363096652,
                  "v147_rawvalue": 77.162581316,
                  "v060_rawvalue": 0.127,
                  "v139_rawvalue": 0.156,
                  "v083_rawvalue": 0.11991125,
                  "v156_rawvalue": 155.09552349,
                  "v153_rawvalue": 0.7329064822,
                  "v166_rawvalue": 0.8056736926,
                  "v051_rawvalue": 55869,
                  "v052_rawvalue": 0.2320607135,
                  "v053_rawvalue": 0.1597307988,
                  "v131_rawvalue": 0.0004116773,
                  "v144_rawvalue": 0.1325295812,
                  "v145_rawvalue": 0.1580923066,
                  "v136_other_data_1": 0.1203259827,
                  "v136_other_data_2": 0.0111612444,
                  "v136_other_data_3": 0.0154357635,
                  "_deepnote_index_column": 2
                },
                {
                  "fipscode": "01001",
                  "state": "AL",
                  "county": "Autauga",
                  "naics": "23----",
                  "Industry Description": "Construction",
                  "emp_nf": "G",
                  "emp": 507,
                  "qp1_nf": "G",
                  "qp1": 5364,
                  "ap_nf": "G",
                  "ap": 26392,
                  "est": 90,
                  "n<5": "53",
                  "n5_9": "23",
                  "n10_19": "8",
                  "n20_49": "6",
                  "n50_99": "N",
                  "n100_249": "N",
                  "n250_499": "N",
                  "n500_999": "N",
                  "n1000": "N",
                  "n1000_1": "N",
                  "n1000_2": "N",
                  "n1000_3": "N",
                  "n1000_4": "N",
                  "v011_rawvalue": 0.33,
                  "v049_rawvalue": 0.1447388631,
                  "v085_rawvalue": 0.1004731422,
                  "v004_rawvalue": 0.0004676175,
                  "v088_rawvalue": 0.0003400813,
                  "v062_rawvalue": 0.0002863842,
                  "v005_rawvalue": 6650,
                  "v023_rawvalue": 0.0272810637,
                  "v125_rawvalue": 10.4,
                  "v136_rawvalue": 0.1363096652,
                  "v147_rawvalue": 77.162581316,
                  "v060_rawvalue": 0.127,
                  "v139_rawvalue": 0.156,
                  "v083_rawvalue": 0.11991125,
                  "v156_rawvalue": 155.09552349,
                  "v153_rawvalue": 0.7329064822,
                  "v166_rawvalue": 0.8056736926,
                  "v051_rawvalue": 55869,
                  "v052_rawvalue": 0.2320607135,
                  "v053_rawvalue": 0.1597307988,
                  "v131_rawvalue": 0.0004116773,
                  "v144_rawvalue": 0.1325295812,
                  "v145_rawvalue": 0.1580923066,
                  "v136_other_data_1": 0.1203259827,
                  "v136_other_data_2": 0.0111612444,
                  "v136_other_data_3": 0.0154357635,
                  "_deepnote_index_column": 3
                },
                {
                  "fipscode": "01001",
                  "state": "AL",
                  "county": "Autauga",
                  "naics": "31----",
                  "Industry Description": "Manufacturing",
                  "emp_nf": "G",
                  "emp": 1086,
                  "qp1_nf": "H",
                  "qp1": 19475,
                  "ap_nf": "H",
                  "ap": 88031,
                  "est": 23,
                  "n<5": "7",
                  "n5_9": "4",
                  "n10_19": "4",
                  "n20_49": "4",
                  "n50_99": "N",
                  "n100_249": "N",
                  "n250_499": "N",
                  "n500_999": "N",
                  "n1000": "N",
                  "n1000_1": "N",
                  "n1000_2": "N",
                  "n1000_3": "N",
                  "n1000_4": "N",
                  "v011_rawvalue": 0.33,
                  "v049_rawvalue": 0.1447388631,
                  "v085_rawvalue": 0.1004731422,
                  "v004_rawvalue": 0.0004676175,
                  "v088_rawvalue": 0.0003400813,
                  "v062_rawvalue": 0.0002863842,
                  "v005_rawvalue": 6650,
                  "v023_rawvalue": 0.0272810637,
                  "v125_rawvalue": 10.4,
                  "v136_rawvalue": 0.1363096652,
                  "v147_rawvalue": 77.162581316,
                  "v060_rawvalue": 0.127,
                  "v139_rawvalue": 0.156,
                  "v083_rawvalue": 0.11991125,
                  "v156_rawvalue": 155.09552349,
                  "v153_rawvalue": 0.7329064822,
                  "v166_rawvalue": 0.8056736926,
                  "v051_rawvalue": 55869,
                  "v052_rawvalue": 0.2320607135,
                  "v053_rawvalue": 0.1597307988,
                  "v131_rawvalue": 0.0004116773,
                  "v144_rawvalue": 0.1325295812,
                  "v145_rawvalue": 0.1580923066,
                  "v136_other_data_1": 0.1203259827,
                  "v136_other_data_2": 0.0111612444,
                  "v136_other_data_3": 0.0154357635,
                  "_deepnote_index_column": 4
                }
              ]
            },
            "text/plain": "  fipscode state   county   naics  \\\n0    01001    AL  Autauga  11----   \n1    01001    AL  Autauga  21----   \n2    01001    AL  Autauga  22----   \n3    01001    AL  Autauga  23----   \n4    01001    AL  Autauga  31----   \n\n                            Industry Description emp_nf   emp qp1_nf    qp1  \\\n0     Agriculture, Forestry, Fishing and Hunting      G    78      G   1325   \n1  Mining, Quarrying, and Oil and Gas Extraction      G    87      G   1224   \n2                                      Utilities      G   138      H   4508   \n3                                   Construction      G   507      G   5364   \n4                                  Manufacturing      G  1086      H  19475   \n\n  ap_nf  ...  v166_rawvalue  v051_rawvalue v052_rawvalue v053_rawvalue  \\\n0     G  ...       0.805674          55869      0.232061      0.159731   \n1     G  ...       0.805674          55869      0.232061      0.159731   \n2     G  ...       0.805674          55869      0.232061      0.159731   \n3     G  ...       0.805674          55869      0.232061      0.159731   \n4     H  ...       0.805674          55869      0.232061      0.159731   \n\n  v131_rawvalue v144_rawvalue v145_rawvalue v136_other_data_1  \\\n0      0.000412       0.13253      0.158092          0.120326   \n1      0.000412       0.13253      0.158092          0.120326   \n2      0.000412       0.13253      0.158092          0.120326   \n3      0.000412       0.13253      0.158092          0.120326   \n4      0.000412       0.13253      0.158092          0.120326   \n\n  v136_other_data_2 v136_other_data_3  \n0          0.011161          0.015436  \n1          0.011161          0.015436  \n2          0.011161          0.015436  \n3          0.011161          0.015436  \n4          0.011161          0.015436  \n\n[5 rows x 51 columns]",
            "text/html": "<div>\n<style scoped>\n    .dataframe tbody tr th:only-of-type {\n        vertical-align: middle;\n    }\n\n    .dataframe tbody tr th {\n        vertical-align: top;\n    }\n\n    .dataframe thead th {\n        text-align: right;\n    }\n</style>\n<table border=\"1\" class=\"dataframe\">\n  <thead>\n    <tr style=\"text-align: right;\">\n      <th></th>\n      <th>fipscode</th>\n      <th>state</th>\n      <th>county</th>\n      <th>naics</th>\n      <th>Industry Description</th>\n      <th>emp_nf</th>\n      <th>emp</th>\n      <th>qp1_nf</th>\n      <th>qp1</th>\n      <th>ap_nf</th>\n      <th>...</th>\n      <th>v166_rawvalue</th>\n      <th>v051_rawvalue</th>\n      <th>v052_rawvalue</th>\n      <th>v053_rawvalue</th>\n      <th>v131_rawvalue</th>\n      <th>v144_rawvalue</th>\n      <th>v145_rawvalue</th>\n      <th>v136_other_data_1</th>\n      <th>v136_other_data_2</th>\n      <th>v136_other_data_3</th>\n    </tr>\n  </thead>\n  <tbody>\n    <tr>\n      <th>0</th>\n      <td>01001</td>\n      <td>AL</td>\n      <td>Autauga</td>\n      <td>11----</td>\n      <td>Agriculture, Forestry, Fishing and Hunting</td>\n      <td>G</td>\n      <td>78</td>\n      <td>G</td>\n      <td>1325</td>\n      <td>G</td>\n      <td>...</td>\n      <td>0.805674</td>\n      <td>55869</td>\n      <td>0.232061</td>\n      <td>0.159731</td>\n      <td>0.000412</td>\n      <td>0.13253</td>\n      <td>0.158092</td>\n      <td>0.120326</td>\n      <td>0.011161</td>\n      <td>0.015436</td>\n    </tr>\n    <tr>\n      <th>1</th>\n      <td>01001</td>\n      <td>AL</td>\n      <td>Autauga</td>\n      <td>21----</td>\n      <td>Mining, Quarrying, and Oil and Gas Extraction</td>\n      <td>G</td>\n      <td>87</td>\n      <td>G</td>\n      <td>1224</td>\n      <td>G</td>\n      <td>...</td>\n      <td>0.805674</td>\n      <td>55869</td>\n      <td>0.232061</td>\n      <td>0.159731</td>\n      <td>0.000412</td>\n      <td>0.13253</td>\n      <td>0.158092</td>\n      <td>0.120326</td>\n      <td>0.011161</td>\n      <td>0.015436</td>\n    </tr>\n    <tr>\n      <th>2</th>\n      <td>01001</td>\n      <td>AL</td>\n      <td>Autauga</td>\n      <td>22----</td>\n      <td>Utilities</td>\n      <td>G</td>\n      <td>138</td>\n      <td>H</td>\n      <td>4508</td>\n      <td>G</td>\n      <td>...</td>\n      <td>0.805674</td>\n      <td>55869</td>\n      <td>0.232061</td>\n      <td>0.159731</td>\n      <td>0.000412</td>\n      <td>0.13253</td>\n      <td>0.158092</td>\n      <td>0.120326</td>\n      <td>0.011161</td>\n      <td>0.015436</td>\n    </tr>\n    <tr>\n      <th>3</th>\n      <td>01001</td>\n      <td>AL</td>\n      <td>Autauga</td>\n      <td>23----</td>\n      <td>Construction</td>\n      <td>G</td>\n      <td>507</td>\n      <td>G</td>\n      <td>5364</td>\n      <td>G</td>\n      <td>...</td>\n      <td>0.805674</td>\n      <td>55869</td>\n      <td>0.232061</td>\n      <td>0.159731</td>\n      <td>0.000412</td>\n      <td>0.13253</td>\n      <td>0.158092</td>\n      <td>0.120326</td>\n      <td>0.011161</td>\n      <td>0.015436</td>\n    </tr>\n    <tr>\n      <th>4</th>\n      <td>01001</td>\n      <td>AL</td>\n      <td>Autauga</td>\n      <td>31----</td>\n      <td>Manufacturing</td>\n      <td>G</td>\n      <td>1086</td>\n      <td>H</td>\n      <td>19475</td>\n      <td>H</td>\n      <td>...</td>\n      <td>0.805674</td>\n      <td>55869</td>\n      <td>0.232061</td>\n      <td>0.159731</td>\n      <td>0.000412</td>\n      <td>0.13253</td>\n      <td>0.158092</td>\n      <td>0.120326</td>\n      <td>0.011161</td>\n      <td>0.015436</td>\n    </tr>\n  </tbody>\n</table>\n<p>5 rows × 51 columns</p>\n</div>"
          },
          "metadata": {}
        }
      ],
      "execution_count": null,
      "block_group": "6cf57b983a7847cf94f0cce33c59474e"
    },
    {
      "cell_type": "markdown",
      "source": "<a style='text-decoration:none;line-height:16px;display:flex;color:#5B5B62;padding:10px;justify-content:end;' href='https://deepnote.com?utm_source=created-in-deepnote-cell&projectId=935c12df-95fc-47b5-a033-2935b9193bd3' target=\"_blank\">\n<img alt='Created in deepnote.com' style='display:inline;max-height:16px;margin:0px;margin-right:7.5px;' src='data:image/svg+xml;base64,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' > </img>\nCreated in <span style='font-weight:600;margin-left:4px;'>Deepnote</span></a>",
      "metadata": {
        "created_in_deepnote_cell": true,
        "deepnote_cell_type": "markdown"
      }
    }
  ],
  "nbformat": 4,
  "nbformat_minor": 0,
  "metadata": {
    "deepnote": {},
    "orig_nbformat": 2,
    "deepnote_notebook_id": "dffc39c937394a0b9a99f7ba0c285ae5",
    "deepnote_execution_queue": []
  }
}